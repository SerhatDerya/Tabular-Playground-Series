{
 "cells": [
  {
   "cell_type": "code",
   "execution_count": 1,
   "id": "32fa8c2c",
   "metadata": {
    "_cell_guid": "b1076dfc-b9ad-4769-8c92-a6c4dae69d19",
    "_uuid": "8f2839f25d086af736a60e9eeb907d3b93b6e0e5",
    "execution": {
     "iopub.execute_input": "2022-03-09T22:29:05.693923Z",
     "iopub.status.busy": "2022-03-09T22:29:05.693246Z",
     "iopub.status.idle": "2022-03-09T22:29:05.700140Z",
     "shell.execute_reply": "2022-03-09T22:29:05.699415Z",
     "shell.execute_reply.started": "2022-03-09T21:43:23.627963Z"
    },
    "papermill": {
     "duration": 0.056283,
     "end_time": "2022-03-09T22:29:05.700358",
     "exception": false,
     "start_time": "2022-03-09T22:29:05.644075",
     "status": "completed"
    },
    "tags": []
   },
   "outputs": [
    {
     "name": "stdout",
     "output_type": "stream",
     "text": [
      "/kaggle/input/tabular-playground-series-mar-2022/sample_submission.csv\n",
      "/kaggle/input/tabular-playground-series-mar-2022/train.csv\n",
      "/kaggle/input/tabular-playground-series-mar-2022/test.csv\n"
     ]
    }
   ],
   "source": [
    "# This Python 3 environment comes with many helpful analytics libraries installed\n",
    "# It is defined by the kaggle/python Docker image: https://github.com/kaggle/docker-python\n",
    "# For example, here's several helpful packages to load\n",
    "\n",
    "import numpy as np # linear algebra\n",
    "import pandas as pd # data processing, CSV file I/O (e.g. pd.read_csv)\n",
    "\n",
    "# Input data files are available in the read-only \"../input/\" directory\n",
    "# For example, running this (by clicking run or pressing Shift+Enter) will list all files under the input directory\n",
    "\n",
    "import os\n",
    "for dirname, _, filenames in os.walk('/kaggle/input'):\n",
    "    for filename in filenames:\n",
    "        print(os.path.join(dirname, filename))\n",
    "\n",
    "# You can write up to 20GB to the current directory (/kaggle/working/) that gets preserved as output when you create a version using \"Save & Run All\" \n",
    "# You can also write temporary files to /kaggle/temp/, but they won't be saved outside of the current session"
   ]
  },
  {
   "cell_type": "code",
   "execution_count": 2,
   "id": "db8a69b8",
   "metadata": {
    "execution": {
     "iopub.execute_input": "2022-03-09T22:29:05.789481Z",
     "iopub.status.busy": "2022-03-09T22:29:05.788685Z",
     "iopub.status.idle": "2022-03-09T22:29:06.521966Z",
     "shell.execute_reply": "2022-03-09T22:29:06.522490Z",
     "shell.execute_reply.started": "2022-03-09T21:43:29.268529Z"
    },
    "papermill": {
     "duration": 0.780165,
     "end_time": "2022-03-09T22:29:06.522686",
     "exception": false,
     "start_time": "2022-03-09T22:29:05.742521",
     "status": "completed"
    },
    "tags": []
   },
   "outputs": [],
   "source": [
    "train = pd.read_csv(\"../input/tabular-playground-series-mar-2022/train.csv\")\n",
    "test = pd.read_csv(\"../input/tabular-playground-series-mar-2022/test.csv\")\n",
    "submission = pd.read_csv(\"../input/tabular-playground-series-mar-2022/sample_submission.csv\")"
   ]
  },
  {
   "cell_type": "code",
   "execution_count": 3,
   "id": "fb26222d",
   "metadata": {
    "execution": {
     "iopub.execute_input": "2022-03-09T22:29:06.603498Z",
     "iopub.status.busy": "2022-03-09T22:29:06.602858Z",
     "iopub.status.idle": "2022-03-09T22:29:06.621391Z",
     "shell.execute_reply": "2022-03-09T22:29:06.621809Z",
     "shell.execute_reply.started": "2022-03-09T21:43:30.260244Z"
    },
    "papermill": {
     "duration": 0.060085,
     "end_time": "2022-03-09T22:29:06.621974",
     "exception": false,
     "start_time": "2022-03-09T22:29:06.561889",
     "status": "completed"
    },
    "tags": []
   },
   "outputs": [
    {
     "name": "stdout",
     "output_type": "stream",
     "text": [
      "(848835, 6)\n"
     ]
    },
    {
     "data": {
      "text/html": [
       "<div>\n",
       "<style scoped>\n",
       "    .dataframe tbody tr th:only-of-type {\n",
       "        vertical-align: middle;\n",
       "    }\n",
       "\n",
       "    .dataframe tbody tr th {\n",
       "        vertical-align: top;\n",
       "    }\n",
       "\n",
       "    .dataframe thead th {\n",
       "        text-align: right;\n",
       "    }\n",
       "</style>\n",
       "<table border=\"1\" class=\"dataframe\">\n",
       "  <thead>\n",
       "    <tr style=\"text-align: right;\">\n",
       "      <th></th>\n",
       "      <th>row_id</th>\n",
       "      <th>time</th>\n",
       "      <th>x</th>\n",
       "      <th>y</th>\n",
       "      <th>direction</th>\n",
       "      <th>congestion</th>\n",
       "    </tr>\n",
       "  </thead>\n",
       "  <tbody>\n",
       "    <tr>\n",
       "      <th>0</th>\n",
       "      <td>0</td>\n",
       "      <td>1991-04-01 00:00:00</td>\n",
       "      <td>0</td>\n",
       "      <td>0</td>\n",
       "      <td>EB</td>\n",
       "      <td>70</td>\n",
       "    </tr>\n",
       "    <tr>\n",
       "      <th>1</th>\n",
       "      <td>1</td>\n",
       "      <td>1991-04-01 00:00:00</td>\n",
       "      <td>0</td>\n",
       "      <td>0</td>\n",
       "      <td>NB</td>\n",
       "      <td>49</td>\n",
       "    </tr>\n",
       "    <tr>\n",
       "      <th>2</th>\n",
       "      <td>2</td>\n",
       "      <td>1991-04-01 00:00:00</td>\n",
       "      <td>0</td>\n",
       "      <td>0</td>\n",
       "      <td>SB</td>\n",
       "      <td>24</td>\n",
       "    </tr>\n",
       "    <tr>\n",
       "      <th>3</th>\n",
       "      <td>3</td>\n",
       "      <td>1991-04-01 00:00:00</td>\n",
       "      <td>0</td>\n",
       "      <td>1</td>\n",
       "      <td>EB</td>\n",
       "      <td>18</td>\n",
       "    </tr>\n",
       "    <tr>\n",
       "      <th>4</th>\n",
       "      <td>4</td>\n",
       "      <td>1991-04-01 00:00:00</td>\n",
       "      <td>0</td>\n",
       "      <td>1</td>\n",
       "      <td>NB</td>\n",
       "      <td>60</td>\n",
       "    </tr>\n",
       "  </tbody>\n",
       "</table>\n",
       "</div>"
      ],
      "text/plain": [
       "   row_id                 time  x  y direction  congestion\n",
       "0       0  1991-04-01 00:00:00  0  0        EB          70\n",
       "1       1  1991-04-01 00:00:00  0  0        NB          49\n",
       "2       2  1991-04-01 00:00:00  0  0        SB          24\n",
       "3       3  1991-04-01 00:00:00  0  1        EB          18\n",
       "4       4  1991-04-01 00:00:00  0  1        NB          60"
      ]
     },
     "execution_count": 3,
     "metadata": {},
     "output_type": "execute_result"
    }
   ],
   "source": [
    "print(train.shape)\n",
    "train.head()"
   ]
  },
  {
   "cell_type": "code",
   "execution_count": 4,
   "id": "95729cf8",
   "metadata": {
    "execution": {
     "iopub.execute_input": "2022-03-09T22:29:06.708985Z",
     "iopub.status.busy": "2022-03-09T22:29:06.708127Z",
     "iopub.status.idle": "2022-03-09T22:29:06.712594Z",
     "shell.execute_reply": "2022-03-09T22:29:06.713056Z",
     "shell.execute_reply.started": "2022-03-09T21:43:31.282608Z"
    },
    "papermill": {
     "duration": 0.052545,
     "end_time": "2022-03-09T22:29:06.713236",
     "exception": false,
     "start_time": "2022-03-09T22:29:06.660691",
     "status": "completed"
    },
    "tags": []
   },
   "outputs": [
    {
     "name": "stdout",
     "output_type": "stream",
     "text": [
      "(2340, 5)\n"
     ]
    },
    {
     "data": {
      "text/html": [
       "<div>\n",
       "<style scoped>\n",
       "    .dataframe tbody tr th:only-of-type {\n",
       "        vertical-align: middle;\n",
       "    }\n",
       "\n",
       "    .dataframe tbody tr th {\n",
       "        vertical-align: top;\n",
       "    }\n",
       "\n",
       "    .dataframe thead th {\n",
       "        text-align: right;\n",
       "    }\n",
       "</style>\n",
       "<table border=\"1\" class=\"dataframe\">\n",
       "  <thead>\n",
       "    <tr style=\"text-align: right;\">\n",
       "      <th></th>\n",
       "      <th>row_id</th>\n",
       "      <th>time</th>\n",
       "      <th>x</th>\n",
       "      <th>y</th>\n",
       "      <th>direction</th>\n",
       "    </tr>\n",
       "  </thead>\n",
       "  <tbody>\n",
       "    <tr>\n",
       "      <th>0</th>\n",
       "      <td>848835</td>\n",
       "      <td>1991-09-30 12:00:00</td>\n",
       "      <td>0</td>\n",
       "      <td>0</td>\n",
       "      <td>EB</td>\n",
       "    </tr>\n",
       "    <tr>\n",
       "      <th>1</th>\n",
       "      <td>848836</td>\n",
       "      <td>1991-09-30 12:00:00</td>\n",
       "      <td>0</td>\n",
       "      <td>0</td>\n",
       "      <td>NB</td>\n",
       "    </tr>\n",
       "    <tr>\n",
       "      <th>2</th>\n",
       "      <td>848837</td>\n",
       "      <td>1991-09-30 12:00:00</td>\n",
       "      <td>0</td>\n",
       "      <td>0</td>\n",
       "      <td>SB</td>\n",
       "    </tr>\n",
       "    <tr>\n",
       "      <th>3</th>\n",
       "      <td>848838</td>\n",
       "      <td>1991-09-30 12:00:00</td>\n",
       "      <td>0</td>\n",
       "      <td>1</td>\n",
       "      <td>EB</td>\n",
       "    </tr>\n",
       "    <tr>\n",
       "      <th>4</th>\n",
       "      <td>848839</td>\n",
       "      <td>1991-09-30 12:00:00</td>\n",
       "      <td>0</td>\n",
       "      <td>1</td>\n",
       "      <td>NB</td>\n",
       "    </tr>\n",
       "  </tbody>\n",
       "</table>\n",
       "</div>"
      ],
      "text/plain": [
       "   row_id                 time  x  y direction\n",
       "0  848835  1991-09-30 12:00:00  0  0        EB\n",
       "1  848836  1991-09-30 12:00:00  0  0        NB\n",
       "2  848837  1991-09-30 12:00:00  0  0        SB\n",
       "3  848838  1991-09-30 12:00:00  0  1        EB\n",
       "4  848839  1991-09-30 12:00:00  0  1        NB"
      ]
     },
     "execution_count": 4,
     "metadata": {},
     "output_type": "execute_result"
    }
   ],
   "source": [
    "print(test.shape)\n",
    "test.head()"
   ]
  },
  {
   "cell_type": "code",
   "execution_count": 5,
   "id": "0ece7be6",
   "metadata": {
    "execution": {
     "iopub.execute_input": "2022-03-09T22:29:06.795327Z",
     "iopub.status.busy": "2022-03-09T22:29:06.794328Z",
     "iopub.status.idle": "2022-03-09T22:29:06.805414Z",
     "shell.execute_reply": "2022-03-09T22:29:06.806079Z",
     "shell.execute_reply.started": "2022-03-09T21:43:31.595091Z"
    },
    "papermill": {
     "duration": 0.054178,
     "end_time": "2022-03-09T22:29:06.806321",
     "exception": false,
     "start_time": "2022-03-09T22:29:06.752143",
     "status": "completed"
    },
    "tags": []
   },
   "outputs": [
    {
     "name": "stdout",
     "output_type": "stream",
     "text": [
      "(2340, 2)\n"
     ]
    },
    {
     "data": {
      "text/html": [
       "<div>\n",
       "<style scoped>\n",
       "    .dataframe tbody tr th:only-of-type {\n",
       "        vertical-align: middle;\n",
       "    }\n",
       "\n",
       "    .dataframe tbody tr th {\n",
       "        vertical-align: top;\n",
       "    }\n",
       "\n",
       "    .dataframe thead th {\n",
       "        text-align: right;\n",
       "    }\n",
       "</style>\n",
       "<table border=\"1\" class=\"dataframe\">\n",
       "  <thead>\n",
       "    <tr style=\"text-align: right;\">\n",
       "      <th></th>\n",
       "      <th>row_id</th>\n",
       "      <th>congestion</th>\n",
       "    </tr>\n",
       "  </thead>\n",
       "  <tbody>\n",
       "    <tr>\n",
       "      <th>0</th>\n",
       "      <td>848835</td>\n",
       "      <td>0.0</td>\n",
       "    </tr>\n",
       "    <tr>\n",
       "      <th>1</th>\n",
       "      <td>848836</td>\n",
       "      <td>0.0</td>\n",
       "    </tr>\n",
       "    <tr>\n",
       "      <th>2</th>\n",
       "      <td>848837</td>\n",
       "      <td>0.0</td>\n",
       "    </tr>\n",
       "    <tr>\n",
       "      <th>3</th>\n",
       "      <td>848838</td>\n",
       "      <td>0.0</td>\n",
       "    </tr>\n",
       "    <tr>\n",
       "      <th>4</th>\n",
       "      <td>848839</td>\n",
       "      <td>0.0</td>\n",
       "    </tr>\n",
       "  </tbody>\n",
       "</table>\n",
       "</div>"
      ],
      "text/plain": [
       "   row_id  congestion\n",
       "0  848835         0.0\n",
       "1  848836         0.0\n",
       "2  848837         0.0\n",
       "3  848838         0.0\n",
       "4  848839         0.0"
      ]
     },
     "execution_count": 5,
     "metadata": {},
     "output_type": "execute_result"
    }
   ],
   "source": [
    "print(submission.shape)\n",
    "submission.head()"
   ]
  },
  {
   "cell_type": "code",
   "execution_count": 6,
   "id": "b3495ad4",
   "metadata": {
    "execution": {
     "iopub.execute_input": "2022-03-09T22:29:06.895245Z",
     "iopub.status.busy": "2022-03-09T22:29:06.894552Z",
     "iopub.status.idle": "2022-03-09T22:29:06.896523Z",
     "shell.execute_reply": "2022-03-09T22:29:06.896997Z",
     "shell.execute_reply.started": "2022-03-09T21:43:32.712372Z"
    },
    "papermill": {
     "duration": 0.050527,
     "end_time": "2022-03-09T22:29:06.897174",
     "exception": false,
     "start_time": "2022-03-09T22:29:06.846647",
     "status": "completed"
    },
    "tags": []
   },
   "outputs": [],
   "source": [
    "def feature_engineering(df):\n",
    "    df[\"time\"] = pd.to_datetime(df[\"time\"])\n",
    "    df[\"month\"] = df[\"time\"].dt.month\n",
    "    df[\"weekday\"] = df[\"time\"].dt.weekday\n",
    "    df[\"hour\"] = df[\"time\"].dt.hour\n",
    "    df[\"minute\"] = df[\"time\"].dt.minute\n",
    "    df[\"is_month_start\"] = df[\"time\"].dt.is_month_start.astype(\"int\")\n",
    "    df[\"is_month_end\"] = df[\"time\"].dt.is_month_end.astype(\"int\")\n",
    "    df[\"is_weekend\"] = (df[\"time\"].dt.dayofweek > 4).astype(\"int\")\n",
    "    df[\"is_afternoon\"] = (df[\"time\"].dt.hour > 12).astype(\"int\")"
   ]
  },
  {
   "cell_type": "code",
   "execution_count": 7,
   "id": "fdfe74d6",
   "metadata": {
    "execution": {
     "iopub.execute_input": "2022-03-09T22:29:06.984108Z",
     "iopub.status.busy": "2022-03-09T22:29:06.983429Z",
     "iopub.status.idle": "2022-03-09T22:29:07.817069Z",
     "shell.execute_reply": "2022-03-09T22:29:07.816501Z",
     "shell.execute_reply.started": "2022-03-09T21:43:34.974443Z"
    },
    "papermill": {
     "duration": 0.876914,
     "end_time": "2022-03-09T22:29:07.817232",
     "exception": false,
     "start_time": "2022-03-09T22:29:06.940318",
     "status": "completed"
    },
    "tags": []
   },
   "outputs": [],
   "source": [
    "for data in [train ,test]:\n",
    "    feature_engineering(data)"
   ]
  },
  {
   "cell_type": "code",
   "execution_count": 8,
   "id": "3755079f",
   "metadata": {
    "execution": {
     "iopub.execute_input": "2022-03-09T22:29:07.902565Z",
     "iopub.status.busy": "2022-03-09T22:29:07.901941Z",
     "iopub.status.idle": "2022-03-09T22:29:07.914927Z",
     "shell.execute_reply": "2022-03-09T22:29:07.915533Z",
     "shell.execute_reply.started": "2022-03-09T21:43:35.846837Z"
    },
    "papermill": {
     "duration": 0.057494,
     "end_time": "2022-03-09T22:29:07.915716",
     "exception": false,
     "start_time": "2022-03-09T22:29:07.858222",
     "status": "completed"
    },
    "tags": []
   },
   "outputs": [
    {
     "data": {
      "text/html": [
       "<div>\n",
       "<style scoped>\n",
       "    .dataframe tbody tr th:only-of-type {\n",
       "        vertical-align: middle;\n",
       "    }\n",
       "\n",
       "    .dataframe tbody tr th {\n",
       "        vertical-align: top;\n",
       "    }\n",
       "\n",
       "    .dataframe thead th {\n",
       "        text-align: right;\n",
       "    }\n",
       "</style>\n",
       "<table border=\"1\" class=\"dataframe\">\n",
       "  <thead>\n",
       "    <tr style=\"text-align: right;\">\n",
       "      <th></th>\n",
       "      <th>row_id</th>\n",
       "      <th>time</th>\n",
       "      <th>x</th>\n",
       "      <th>y</th>\n",
       "      <th>direction</th>\n",
       "      <th>congestion</th>\n",
       "      <th>month</th>\n",
       "      <th>weekday</th>\n",
       "      <th>hour</th>\n",
       "      <th>minute</th>\n",
       "      <th>is_month_start</th>\n",
       "      <th>is_month_end</th>\n",
       "      <th>is_weekend</th>\n",
       "      <th>is_afternoon</th>\n",
       "    </tr>\n",
       "  </thead>\n",
       "  <tbody>\n",
       "    <tr>\n",
       "      <th>0</th>\n",
       "      <td>0</td>\n",
       "      <td>1991-04-01</td>\n",
       "      <td>0</td>\n",
       "      <td>0</td>\n",
       "      <td>EB</td>\n",
       "      <td>70</td>\n",
       "      <td>4</td>\n",
       "      <td>0</td>\n",
       "      <td>0</td>\n",
       "      <td>0</td>\n",
       "      <td>1</td>\n",
       "      <td>0</td>\n",
       "      <td>0</td>\n",
       "      <td>0</td>\n",
       "    </tr>\n",
       "    <tr>\n",
       "      <th>1</th>\n",
       "      <td>1</td>\n",
       "      <td>1991-04-01</td>\n",
       "      <td>0</td>\n",
       "      <td>0</td>\n",
       "      <td>NB</td>\n",
       "      <td>49</td>\n",
       "      <td>4</td>\n",
       "      <td>0</td>\n",
       "      <td>0</td>\n",
       "      <td>0</td>\n",
       "      <td>1</td>\n",
       "      <td>0</td>\n",
       "      <td>0</td>\n",
       "      <td>0</td>\n",
       "    </tr>\n",
       "    <tr>\n",
       "      <th>2</th>\n",
       "      <td>2</td>\n",
       "      <td>1991-04-01</td>\n",
       "      <td>0</td>\n",
       "      <td>0</td>\n",
       "      <td>SB</td>\n",
       "      <td>24</td>\n",
       "      <td>4</td>\n",
       "      <td>0</td>\n",
       "      <td>0</td>\n",
       "      <td>0</td>\n",
       "      <td>1</td>\n",
       "      <td>0</td>\n",
       "      <td>0</td>\n",
       "      <td>0</td>\n",
       "    </tr>\n",
       "    <tr>\n",
       "      <th>3</th>\n",
       "      <td>3</td>\n",
       "      <td>1991-04-01</td>\n",
       "      <td>0</td>\n",
       "      <td>1</td>\n",
       "      <td>EB</td>\n",
       "      <td>18</td>\n",
       "      <td>4</td>\n",
       "      <td>0</td>\n",
       "      <td>0</td>\n",
       "      <td>0</td>\n",
       "      <td>1</td>\n",
       "      <td>0</td>\n",
       "      <td>0</td>\n",
       "      <td>0</td>\n",
       "    </tr>\n",
       "    <tr>\n",
       "      <th>4</th>\n",
       "      <td>4</td>\n",
       "      <td>1991-04-01</td>\n",
       "      <td>0</td>\n",
       "      <td>1</td>\n",
       "      <td>NB</td>\n",
       "      <td>60</td>\n",
       "      <td>4</td>\n",
       "      <td>0</td>\n",
       "      <td>0</td>\n",
       "      <td>0</td>\n",
       "      <td>1</td>\n",
       "      <td>0</td>\n",
       "      <td>0</td>\n",
       "      <td>0</td>\n",
       "    </tr>\n",
       "  </tbody>\n",
       "</table>\n",
       "</div>"
      ],
      "text/plain": [
       "   row_id       time  x  y direction  congestion  month  weekday  hour  \\\n",
       "0       0 1991-04-01  0  0        EB          70      4        0     0   \n",
       "1       1 1991-04-01  0  0        NB          49      4        0     0   \n",
       "2       2 1991-04-01  0  0        SB          24      4        0     0   \n",
       "3       3 1991-04-01  0  1        EB          18      4        0     0   \n",
       "4       4 1991-04-01  0  1        NB          60      4        0     0   \n",
       "\n",
       "   minute  is_month_start  is_month_end  is_weekend  is_afternoon  \n",
       "0       0               1             0           0             0  \n",
       "1       0               1             0           0             0  \n",
       "2       0               1             0           0             0  \n",
       "3       0               1             0           0             0  \n",
       "4       0               1             0           0             0  "
      ]
     },
     "execution_count": 8,
     "metadata": {},
     "output_type": "execute_result"
    }
   ],
   "source": [
    "train.head()"
   ]
  },
  {
   "cell_type": "code",
   "execution_count": 9,
   "id": "7e6b924f",
   "metadata": {
    "execution": {
     "iopub.execute_input": "2022-03-09T22:29:08.005323Z",
     "iopub.status.busy": "2022-03-09T22:29:08.004636Z",
     "iopub.status.idle": "2022-03-09T22:29:08.017514Z",
     "shell.execute_reply": "2022-03-09T22:29:08.018015Z",
     "shell.execute_reply.started": "2022-03-09T21:43:35.870637Z"
    },
    "papermill": {
     "duration": 0.059452,
     "end_time": "2022-03-09T22:29:08.018192",
     "exception": false,
     "start_time": "2022-03-09T22:29:07.958740",
     "status": "completed"
    },
    "tags": []
   },
   "outputs": [
    {
     "data": {
      "text/html": [
       "<div>\n",
       "<style scoped>\n",
       "    .dataframe tbody tr th:only-of-type {\n",
       "        vertical-align: middle;\n",
       "    }\n",
       "\n",
       "    .dataframe tbody tr th {\n",
       "        vertical-align: top;\n",
       "    }\n",
       "\n",
       "    .dataframe thead th {\n",
       "        text-align: right;\n",
       "    }\n",
       "</style>\n",
       "<table border=\"1\" class=\"dataframe\">\n",
       "  <thead>\n",
       "    <tr style=\"text-align: right;\">\n",
       "      <th></th>\n",
       "      <th>row_id</th>\n",
       "      <th>time</th>\n",
       "      <th>x</th>\n",
       "      <th>y</th>\n",
       "      <th>direction</th>\n",
       "      <th>month</th>\n",
       "      <th>weekday</th>\n",
       "      <th>hour</th>\n",
       "      <th>minute</th>\n",
       "      <th>is_month_start</th>\n",
       "      <th>is_month_end</th>\n",
       "      <th>is_weekend</th>\n",
       "      <th>is_afternoon</th>\n",
       "    </tr>\n",
       "  </thead>\n",
       "  <tbody>\n",
       "    <tr>\n",
       "      <th>0</th>\n",
       "      <td>848835</td>\n",
       "      <td>1991-09-30 12:00:00</td>\n",
       "      <td>0</td>\n",
       "      <td>0</td>\n",
       "      <td>EB</td>\n",
       "      <td>9</td>\n",
       "      <td>0</td>\n",
       "      <td>12</td>\n",
       "      <td>0</td>\n",
       "      <td>0</td>\n",
       "      <td>1</td>\n",
       "      <td>0</td>\n",
       "      <td>0</td>\n",
       "    </tr>\n",
       "    <tr>\n",
       "      <th>1</th>\n",
       "      <td>848836</td>\n",
       "      <td>1991-09-30 12:00:00</td>\n",
       "      <td>0</td>\n",
       "      <td>0</td>\n",
       "      <td>NB</td>\n",
       "      <td>9</td>\n",
       "      <td>0</td>\n",
       "      <td>12</td>\n",
       "      <td>0</td>\n",
       "      <td>0</td>\n",
       "      <td>1</td>\n",
       "      <td>0</td>\n",
       "      <td>0</td>\n",
       "    </tr>\n",
       "    <tr>\n",
       "      <th>2</th>\n",
       "      <td>848837</td>\n",
       "      <td>1991-09-30 12:00:00</td>\n",
       "      <td>0</td>\n",
       "      <td>0</td>\n",
       "      <td>SB</td>\n",
       "      <td>9</td>\n",
       "      <td>0</td>\n",
       "      <td>12</td>\n",
       "      <td>0</td>\n",
       "      <td>0</td>\n",
       "      <td>1</td>\n",
       "      <td>0</td>\n",
       "      <td>0</td>\n",
       "    </tr>\n",
       "    <tr>\n",
       "      <th>3</th>\n",
       "      <td>848838</td>\n",
       "      <td>1991-09-30 12:00:00</td>\n",
       "      <td>0</td>\n",
       "      <td>1</td>\n",
       "      <td>EB</td>\n",
       "      <td>9</td>\n",
       "      <td>0</td>\n",
       "      <td>12</td>\n",
       "      <td>0</td>\n",
       "      <td>0</td>\n",
       "      <td>1</td>\n",
       "      <td>0</td>\n",
       "      <td>0</td>\n",
       "    </tr>\n",
       "    <tr>\n",
       "      <th>4</th>\n",
       "      <td>848839</td>\n",
       "      <td>1991-09-30 12:00:00</td>\n",
       "      <td>0</td>\n",
       "      <td>1</td>\n",
       "      <td>NB</td>\n",
       "      <td>9</td>\n",
       "      <td>0</td>\n",
       "      <td>12</td>\n",
       "      <td>0</td>\n",
       "      <td>0</td>\n",
       "      <td>1</td>\n",
       "      <td>0</td>\n",
       "      <td>0</td>\n",
       "    </tr>\n",
       "  </tbody>\n",
       "</table>\n",
       "</div>"
      ],
      "text/plain": [
       "   row_id                time  x  y direction  month  weekday  hour  minute  \\\n",
       "0  848835 1991-09-30 12:00:00  0  0        EB      9        0    12       0   \n",
       "1  848836 1991-09-30 12:00:00  0  0        NB      9        0    12       0   \n",
       "2  848837 1991-09-30 12:00:00  0  0        SB      9        0    12       0   \n",
       "3  848838 1991-09-30 12:00:00  0  1        EB      9        0    12       0   \n",
       "4  848839 1991-09-30 12:00:00  0  1        NB      9        0    12       0   \n",
       "\n",
       "   is_month_start  is_month_end  is_weekend  is_afternoon  \n",
       "0               0             1           0             0  \n",
       "1               0             1           0             0  \n",
       "2               0             1           0             0  \n",
       "3               0             1           0             0  \n",
       "4               0             1           0             0  "
      ]
     },
     "execution_count": 9,
     "metadata": {},
     "output_type": "execute_result"
    }
   ],
   "source": [
    "test.head()"
   ]
  },
  {
   "cell_type": "markdown",
   "id": "4d484fd4",
   "metadata": {
    "papermill": {
     "duration": 0.040869,
     "end_time": "2022-03-09T22:29:08.100743",
     "exception": false,
     "start_time": "2022-03-09T22:29:08.059874",
     "status": "completed"
    },
    "tags": []
   },
   "source": [
    "## Data Visualizing"
   ]
  },
  {
   "cell_type": "code",
   "execution_count": 10,
   "id": "149449b5",
   "metadata": {
    "execution": {
     "iopub.execute_input": "2022-03-09T22:29:08.187096Z",
     "iopub.status.busy": "2022-03-09T22:29:08.186453Z",
     "iopub.status.idle": "2022-03-09T22:29:12.194425Z",
     "shell.execute_reply": "2022-03-09T22:29:12.193728Z",
     "shell.execute_reply.started": "2022-03-09T21:43:41.067861Z"
    },
    "papermill": {
     "duration": 4.052657,
     "end_time": "2022-03-09T22:29:12.194584",
     "exception": false,
     "start_time": "2022-03-09T22:29:08.141927",
     "status": "completed"
    },
    "tags": []
   },
   "outputs": [
    {
     "data": {
      "image/png": "[encoded data removed]",
      "text/plain": [
       "<Figure size 936x360 with 1 Axes>"
      ]
     },
     "metadata": {
      "needs_background": "light"
     },
     "output_type": "display_data"
    }
   ],
   "source": [
    "import seaborn as sns\n",
    "import matplotlib.pyplot as plt\n",
    "\n",
    "plt.figure(figsize=(13,5))\n",
    "sns.violinplot(x=\"direction\", y=\"congestion\", data=train);"
   ]
  },
  {
   "cell_type": "code",
   "execution_count": 11,
   "id": "e2e061f1",
   "metadata": {
    "execution": {
     "iopub.execute_input": "2022-03-09T22:29:12.289705Z",
     "iopub.status.busy": "2022-03-09T22:29:12.288966Z",
     "iopub.status.idle": "2022-03-09T22:29:12.661942Z",
     "shell.execute_reply": "2022-03-09T22:29:12.661400Z"
    },
    "papermill": {
     "duration": 0.421214,
     "end_time": "2022-03-09T22:29:12.662092",
     "exception": false,
     "start_time": "2022-03-09T22:29:12.240878",
     "status": "completed"
    },
    "tags": []
   },
   "outputs": [
    {
     "data": {
      "image/png": "[encoded data removed]",
      "text/plain": [
       "<Figure size 432x288 with 1 Axes>"
      ]
     },
     "metadata": {
      "needs_background": "light"
     },
     "output_type": "display_data"
    }
   ],
   "source": [
    "sns.boxplot(x=\"weekday\", y=\"congestion\", data=train);"
   ]
  },
  {
   "cell_type": "code",
   "execution_count": 12,
   "id": "326c60c8",
   "metadata": {
    "execution": {
     "iopub.execute_input": "2022-03-09T22:29:12.757851Z",
     "iopub.status.busy": "2022-03-09T22:29:12.757107Z",
     "iopub.status.idle": "2022-03-09T22:29:13.040825Z",
     "shell.execute_reply": "2022-03-09T22:29:13.041441Z"
    },
    "papermill": {
     "duration": 0.333535,
     "end_time": "2022-03-09T22:29:13.041644",
     "exception": false,
     "start_time": "2022-03-09T22:29:12.708109",
     "status": "completed"
    },
    "tags": []
   },
   "outputs": [
    {
     "data": {
      "image/png": "[encoded data removed]",
      "text/plain": [
       "<Figure size 432x288 with 1 Axes>"
      ]
     },
     "metadata": {
      "needs_background": "light"
     },
     "output_type": "display_data"
    }
   ],
   "source": [
    "sns.boxplot(x=\"is_weekend\", y=\"congestion\", data=train);"
   ]
  },
  {
   "cell_type": "code",
   "execution_count": 13,
   "id": "9ac8f487",
   "metadata": {
    "execution": {
     "iopub.execute_input": "2022-03-09T22:29:13.137102Z",
     "iopub.status.busy": "2022-03-09T22:29:13.136015Z",
     "iopub.status.idle": "2022-03-09T22:29:13.979846Z",
     "shell.execute_reply": "2022-03-09T22:29:13.980266Z"
    },
    "papermill": {
     "duration": 0.893734,
     "end_time": "2022-03-09T22:29:13.980439",
     "exception": false,
     "start_time": "2022-03-09T22:29:13.086705",
     "status": "completed"
    },
    "tags": []
   },
   "outputs": [
    {
     "data": {
      "image/png": "[encoded data removed]",
      "text/plain": [
       "<Figure size 432x288 with 1 Axes>"
      ]
     },
     "metadata": {
      "needs_background": "light"
     },
     "output_type": "display_data"
    }
   ],
   "source": [
    "sns.boxplot(x=\"weekday\", y=\"congestion\", hue=\"is_afternoon\", data=train);"
   ]
  },
  {
   "cell_type": "code",
   "execution_count": 14,
   "id": "b4048ae4",
   "metadata": {
    "execution": {
     "iopub.execute_input": "2022-03-09T22:29:14.079922Z",
     "iopub.status.busy": "2022-03-09T22:29:14.078596Z",
     "iopub.status.idle": "2022-03-09T22:29:24.941671Z",
     "shell.execute_reply": "2022-03-09T22:29:24.940349Z"
    },
    "papermill": {
     "duration": 10.913746,
     "end_time": "2022-03-09T22:29:24.941886",
     "exception": false,
     "start_time": "2022-03-09T22:29:14.028140",
     "status": "completed"
    },
    "tags": []
   },
   "outputs": [
    {
     "data": {
      "image/png": "[encoded data removed]",
      "text/plain": [
       "<Figure size 432x288 with 1 Axes>"
      ]
     },
     "metadata": {
      "needs_background": "light"
     },
     "output_type": "display_data"
    }
   ],
   "source": [
    "sns.lineplot(x=\"month\", y=\"congestion\", data=train);"
   ]
  },
  {
   "cell_type": "code",
   "execution_count": 15,
   "id": "9ea2bd1a",
   "metadata": {
    "execution": {
     "iopub.execute_input": "2022-03-09T22:29:25.046570Z",
     "iopub.status.busy": "2022-03-09T22:29:25.045802Z",
     "iopub.status.idle": "2022-03-09T22:29:26.000083Z",
     "shell.execute_reply": "2022-03-09T22:29:25.999490Z"
    },
    "papermill": {
     "duration": 1.008672,
     "end_time": "2022-03-09T22:29:26.000269",
     "exception": false,
     "start_time": "2022-03-09T22:29:24.991597",
     "status": "completed"
    },
    "tags": []
   },
   "outputs": [
    {
     "data": {
      "image/png": "[encoded data removed]",
      "text/plain": [
       "<Figure size 432x288 with 1 Axes>"
      ]
     },
     "metadata": {
      "needs_background": "light"
     },
     "output_type": "display_data"
    }
   ],
   "source": [
    "sns.boxplot(x=\"x\", y=\"congestion\", hue=\"y\", data=train);"
   ]
  },
  {
   "cell_type": "code",
   "execution_count": 16,
   "id": "65b99862",
   "metadata": {
    "execution": {
     "iopub.execute_input": "2022-03-09T22:29:26.099899Z",
     "iopub.status.busy": "2022-03-09T22:29:26.099259Z",
     "iopub.status.idle": "2022-03-09T22:29:35.749118Z",
     "shell.execute_reply": "2022-03-09T22:29:35.748067Z"
    },
    "papermill": {
     "duration": 9.701888,
     "end_time": "2022-03-09T22:29:35.749316",
     "exception": false,
     "start_time": "2022-03-09T22:29:26.047428",
     "status": "completed"
    },
    "tags": []
   },
   "outputs": [
    {
     "data": {
      "image/png": "[encoded data removed]",
      "text/plain": [
       "<Figure size 432x288 with 1 Axes>"
      ]
     },
     "metadata": {
      "needs_background": "light"
     },
     "output_type": "display_data"
    }
   ],
   "source": [
    "sns.lineplot(x=\"hour\", y=\"congestion\", data=train);"
   ]
  },
  {
   "cell_type": "markdown",
   "id": "d3fe8fa2",
   "metadata": {
    "papermill": {
     "duration": 0.048692,
     "end_time": "2022-03-09T22:29:35.846955",
     "exception": false,
     "start_time": "2022-03-09T22:29:35.798263",
     "status": "completed"
    },
    "tags": []
   },
   "source": [
    "## Data Preprocessing"
   ]
  },
  {
   "cell_type": "code",
   "execution_count": 17,
   "id": "dbd11f68",
   "metadata": {
    "execution": {
     "iopub.execute_input": "2022-03-09T22:29:35.948941Z",
     "iopub.status.busy": "2022-03-09T22:29:35.947970Z",
     "iopub.status.idle": "2022-03-09T22:29:35.961477Z",
     "shell.execute_reply": "2022-03-09T22:29:35.961969Z"
    },
    "papermill": {
     "duration": 0.065429,
     "end_time": "2022-03-09T22:29:35.962130",
     "exception": false,
     "start_time": "2022-03-09T22:29:35.896701",
     "status": "completed"
    },
    "tags": []
   },
   "outputs": [
    {
     "data": {
      "text/html": [
       "<div>\n",
       "<style scoped>\n",
       "    .dataframe tbody tr th:only-of-type {\n",
       "        vertical-align: middle;\n",
       "    }\n",
       "\n",
       "    .dataframe tbody tr th {\n",
       "        vertical-align: top;\n",
       "    }\n",
       "\n",
       "    .dataframe thead th {\n",
       "        text-align: right;\n",
       "    }\n",
       "</style>\n",
       "<table border=\"1\" class=\"dataframe\">\n",
       "  <thead>\n",
       "    <tr style=\"text-align: right;\">\n",
       "      <th></th>\n",
       "      <th>row_id</th>\n",
       "      <th>time</th>\n",
       "      <th>x</th>\n",
       "      <th>y</th>\n",
       "      <th>direction</th>\n",
       "      <th>congestion</th>\n",
       "      <th>month</th>\n",
       "      <th>weekday</th>\n",
       "      <th>hour</th>\n",
       "      <th>minute</th>\n",
       "      <th>is_month_start</th>\n",
       "      <th>is_month_end</th>\n",
       "      <th>is_weekend</th>\n",
       "      <th>is_afternoon</th>\n",
       "    </tr>\n",
       "  </thead>\n",
       "  <tbody>\n",
       "    <tr>\n",
       "      <th>0</th>\n",
       "      <td>0</td>\n",
       "      <td>1991-04-01</td>\n",
       "      <td>0</td>\n",
       "      <td>0</td>\n",
       "      <td>EB</td>\n",
       "      <td>70</td>\n",
       "      <td>4</td>\n",
       "      <td>0</td>\n",
       "      <td>0</td>\n",
       "      <td>0</td>\n",
       "      <td>1</td>\n",
       "      <td>0</td>\n",
       "      <td>0</td>\n",
       "      <td>0</td>\n",
       "    </tr>\n",
       "    <tr>\n",
       "      <th>1</th>\n",
       "      <td>1</td>\n",
       "      <td>1991-04-01</td>\n",
       "      <td>0</td>\n",
       "      <td>0</td>\n",
       "      <td>NB</td>\n",
       "      <td>49</td>\n",
       "      <td>4</td>\n",
       "      <td>0</td>\n",
       "      <td>0</td>\n",
       "      <td>0</td>\n",
       "      <td>1</td>\n",
       "      <td>0</td>\n",
       "      <td>0</td>\n",
       "      <td>0</td>\n",
       "    </tr>\n",
       "    <tr>\n",
       "      <th>2</th>\n",
       "      <td>2</td>\n",
       "      <td>1991-04-01</td>\n",
       "      <td>0</td>\n",
       "      <td>0</td>\n",
       "      <td>SB</td>\n",
       "      <td>24</td>\n",
       "      <td>4</td>\n",
       "      <td>0</td>\n",
       "      <td>0</td>\n",
       "      <td>0</td>\n",
       "      <td>1</td>\n",
       "      <td>0</td>\n",
       "      <td>0</td>\n",
       "      <td>0</td>\n",
       "    </tr>\n",
       "    <tr>\n",
       "      <th>3</th>\n",
       "      <td>3</td>\n",
       "      <td>1991-04-01</td>\n",
       "      <td>0</td>\n",
       "      <td>1</td>\n",
       "      <td>EB</td>\n",
       "      <td>18</td>\n",
       "      <td>4</td>\n",
       "      <td>0</td>\n",
       "      <td>0</td>\n",
       "      <td>0</td>\n",
       "      <td>1</td>\n",
       "      <td>0</td>\n",
       "      <td>0</td>\n",
       "      <td>0</td>\n",
       "    </tr>\n",
       "    <tr>\n",
       "      <th>4</th>\n",
       "      <td>4</td>\n",
       "      <td>1991-04-01</td>\n",
       "      <td>0</td>\n",
       "      <td>1</td>\n",
       "      <td>NB</td>\n",
       "      <td>60</td>\n",
       "      <td>4</td>\n",
       "      <td>0</td>\n",
       "      <td>0</td>\n",
       "      <td>0</td>\n",
       "      <td>1</td>\n",
       "      <td>0</td>\n",
       "      <td>0</td>\n",
       "      <td>0</td>\n",
       "    </tr>\n",
       "  </tbody>\n",
       "</table>\n",
       "</div>"
      ],
      "text/plain": [
       "   row_id       time  x  y direction  congestion  month  weekday  hour  \\\n",
       "0       0 1991-04-01  0  0        EB          70      4        0     0   \n",
       "1       1 1991-04-01  0  0        NB          49      4        0     0   \n",
       "2       2 1991-04-01  0  0        SB          24      4        0     0   \n",
       "3       3 1991-04-01  0  1        EB          18      4        0     0   \n",
       "4       4 1991-04-01  0  1        NB          60      4        0     0   \n",
       "\n",
       "   minute  is_month_start  is_month_end  is_weekend  is_afternoon  \n",
       "0       0               1             0           0             0  \n",
       "1       0               1             0           0             0  \n",
       "2       0               1             0           0             0  \n",
       "3       0               1             0           0             0  \n",
       "4       0               1             0           0             0  "
      ]
     },
     "execution_count": 17,
     "metadata": {},
     "output_type": "execute_result"
    }
   ],
   "source": [
    "train.head()"
   ]
  },
  {
   "cell_type": "code",
   "execution_count": 18,
   "id": "001e55ff",
   "metadata": {
    "execution": {
     "iopub.execute_input": "2022-03-09T22:29:36.063441Z",
     "iopub.status.busy": "2022-03-09T22:29:36.062398Z",
     "iopub.status.idle": "2022-03-09T22:29:36.075570Z",
     "shell.execute_reply": "2022-03-09T22:29:36.076075Z"
    },
    "papermill": {
     "duration": 0.065704,
     "end_time": "2022-03-09T22:29:36.076267",
     "exception": false,
     "start_time": "2022-03-09T22:29:36.010563",
     "status": "completed"
    },
    "tags": []
   },
   "outputs": [
    {
     "data": {
      "text/html": [
       "<div>\n",
       "<style scoped>\n",
       "    .dataframe tbody tr th:only-of-type {\n",
       "        vertical-align: middle;\n",
       "    }\n",
       "\n",
       "    .dataframe tbody tr th {\n",
       "        vertical-align: top;\n",
       "    }\n",
       "\n",
       "    .dataframe thead th {\n",
       "        text-align: right;\n",
       "    }\n",
       "</style>\n",
       "<table border=\"1\" class=\"dataframe\">\n",
       "  <thead>\n",
       "    <tr style=\"text-align: right;\">\n",
       "      <th></th>\n",
       "      <th>row_id</th>\n",
       "      <th>time</th>\n",
       "      <th>x</th>\n",
       "      <th>y</th>\n",
       "      <th>direction</th>\n",
       "      <th>month</th>\n",
       "      <th>weekday</th>\n",
       "      <th>hour</th>\n",
       "      <th>minute</th>\n",
       "      <th>is_month_start</th>\n",
       "      <th>is_month_end</th>\n",
       "      <th>is_weekend</th>\n",
       "      <th>is_afternoon</th>\n",
       "    </tr>\n",
       "  </thead>\n",
       "  <tbody>\n",
       "    <tr>\n",
       "      <th>0</th>\n",
       "      <td>848835</td>\n",
       "      <td>1991-09-30 12:00:00</td>\n",
       "      <td>0</td>\n",
       "      <td>0</td>\n",
       "      <td>EB</td>\n",
       "      <td>9</td>\n",
       "      <td>0</td>\n",
       "      <td>12</td>\n",
       "      <td>0</td>\n",
       "      <td>0</td>\n",
       "      <td>1</td>\n",
       "      <td>0</td>\n",
       "      <td>0</td>\n",
       "    </tr>\n",
       "    <tr>\n",
       "      <th>1</th>\n",
       "      <td>848836</td>\n",
       "      <td>1991-09-30 12:00:00</td>\n",
       "      <td>0</td>\n",
       "      <td>0</td>\n",
       "      <td>NB</td>\n",
       "      <td>9</td>\n",
       "      <td>0</td>\n",
       "      <td>12</td>\n",
       "      <td>0</td>\n",
       "      <td>0</td>\n",
       "      <td>1</td>\n",
       "      <td>0</td>\n",
       "      <td>0</td>\n",
       "    </tr>\n",
       "    <tr>\n",
       "      <th>2</th>\n",
       "      <td>848837</td>\n",
       "      <td>1991-09-30 12:00:00</td>\n",
       "      <td>0</td>\n",
       "      <td>0</td>\n",
       "      <td>SB</td>\n",
       "      <td>9</td>\n",
       "      <td>0</td>\n",
       "      <td>12</td>\n",
       "      <td>0</td>\n",
       "      <td>0</td>\n",
       "      <td>1</td>\n",
       "      <td>0</td>\n",
       "      <td>0</td>\n",
       "    </tr>\n",
       "    <tr>\n",
       "      <th>3</th>\n",
       "      <td>848838</td>\n",
       "      <td>1991-09-30 12:00:00</td>\n",
       "      <td>0</td>\n",
       "      <td>1</td>\n",
       "      <td>EB</td>\n",
       "      <td>9</td>\n",
       "      <td>0</td>\n",
       "      <td>12</td>\n",
       "      <td>0</td>\n",
       "      <td>0</td>\n",
       "      <td>1</td>\n",
       "      <td>0</td>\n",
       "      <td>0</td>\n",
       "    </tr>\n",
       "    <tr>\n",
       "      <th>4</th>\n",
       "      <td>848839</td>\n",
       "      <td>1991-09-30 12:00:00</td>\n",
       "      <td>0</td>\n",
       "      <td>1</td>\n",
       "      <td>NB</td>\n",
       "      <td>9</td>\n",
       "      <td>0</td>\n",
       "      <td>12</td>\n",
       "      <td>0</td>\n",
       "      <td>0</td>\n",
       "      <td>1</td>\n",
       "      <td>0</td>\n",
       "      <td>0</td>\n",
       "    </tr>\n",
       "  </tbody>\n",
       "</table>\n",
       "</div>"
      ],
      "text/plain": [
       "   row_id                time  x  y direction  month  weekday  hour  minute  \\\n",
       "0  848835 1991-09-30 12:00:00  0  0        EB      9        0    12       0   \n",
       "1  848836 1991-09-30 12:00:00  0  0        NB      9        0    12       0   \n",
       "2  848837 1991-09-30 12:00:00  0  0        SB      9        0    12       0   \n",
       "3  848838 1991-09-30 12:00:00  0  1        EB      9        0    12       0   \n",
       "4  848839 1991-09-30 12:00:00  0  1        NB      9        0    12       0   \n",
       "\n",
       "   is_month_start  is_month_end  is_weekend  is_afternoon  \n",
       "0               0             1           0             0  \n",
       "1               0             1           0             0  \n",
       "2               0             1           0             0  \n",
       "3               0             1           0             0  \n",
       "4               0             1           0             0  "
      ]
     },
     "execution_count": 18,
     "metadata": {},
     "output_type": "execute_result"
    }
   ],
   "source": [
    "test.head()"
   ]
  },
  {
   "cell_type": "code",
   "execution_count": 19,
   "id": "e036e2d4",
   "metadata": {
    "execution": {
     "iopub.execute_input": "2022-03-09T22:29:36.179613Z",
     "iopub.status.busy": "2022-03-09T22:29:36.178963Z",
     "iopub.status.idle": "2022-03-09T22:29:36.548895Z",
     "shell.execute_reply": "2022-03-09T22:29:36.549566Z",
     "shell.execute_reply.started": "2022-03-09T21:43:46.300015Z"
    },
    "papermill": {
     "duration": 0.424388,
     "end_time": "2022-03-09T22:29:36.549736",
     "exception": false,
     "start_time": "2022-03-09T22:29:36.125348",
     "status": "completed"
    },
    "tags": []
   },
   "outputs": [
    {
     "data": {
      "text/html": [
       "<div>\n",
       "<style scoped>\n",
       "    .dataframe tbody tr th:only-of-type {\n",
       "        vertical-align: middle;\n",
       "    }\n",
       "\n",
       "    .dataframe tbody tr th {\n",
       "        vertical-align: top;\n",
       "    }\n",
       "\n",
       "    .dataframe thead th {\n",
       "        text-align: right;\n",
       "    }\n",
       "</style>\n",
       "<table border=\"1\" class=\"dataframe\">\n",
       "  <thead>\n",
       "    <tr style=\"text-align: right;\">\n",
       "      <th></th>\n",
       "      <th>row_id</th>\n",
       "      <th>time</th>\n",
       "      <th>x</th>\n",
       "      <th>y</th>\n",
       "      <th>direction</th>\n",
       "      <th>congestion</th>\n",
       "      <th>month</th>\n",
       "      <th>weekday</th>\n",
       "      <th>hour</th>\n",
       "      <th>minute</th>\n",
       "      <th>is_month_start</th>\n",
       "      <th>is_month_end</th>\n",
       "      <th>is_weekend</th>\n",
       "      <th>is_afternoon</th>\n",
       "    </tr>\n",
       "  </thead>\n",
       "  <tbody>\n",
       "    <tr>\n",
       "      <th>0</th>\n",
       "      <td>0</td>\n",
       "      <td>1991-04-01 00:00:00</td>\n",
       "      <td>0</td>\n",
       "      <td>0</td>\n",
       "      <td>0</td>\n",
       "      <td>70</td>\n",
       "      <td>4</td>\n",
       "      <td>0</td>\n",
       "      <td>0</td>\n",
       "      <td>0</td>\n",
       "      <td>1</td>\n",
       "      <td>0</td>\n",
       "      <td>0</td>\n",
       "      <td>0</td>\n",
       "    </tr>\n",
       "    <tr>\n",
       "      <th>1</th>\n",
       "      <td>1</td>\n",
       "      <td>1991-04-01 00:00:00</td>\n",
       "      <td>0</td>\n",
       "      <td>0</td>\n",
       "      <td>1</td>\n",
       "      <td>49</td>\n",
       "      <td>4</td>\n",
       "      <td>0</td>\n",
       "      <td>0</td>\n",
       "      <td>0</td>\n",
       "      <td>1</td>\n",
       "      <td>0</td>\n",
       "      <td>0</td>\n",
       "      <td>0</td>\n",
       "    </tr>\n",
       "    <tr>\n",
       "      <th>2</th>\n",
       "      <td>2</td>\n",
       "      <td>1991-04-01 00:00:00</td>\n",
       "      <td>0</td>\n",
       "      <td>0</td>\n",
       "      <td>4</td>\n",
       "      <td>24</td>\n",
       "      <td>4</td>\n",
       "      <td>0</td>\n",
       "      <td>0</td>\n",
       "      <td>0</td>\n",
       "      <td>1</td>\n",
       "      <td>0</td>\n",
       "      <td>0</td>\n",
       "      <td>0</td>\n",
       "    </tr>\n",
       "    <tr>\n",
       "      <th>3</th>\n",
       "      <td>3</td>\n",
       "      <td>1991-04-01 00:00:00</td>\n",
       "      <td>0</td>\n",
       "      <td>1</td>\n",
       "      <td>0</td>\n",
       "      <td>18</td>\n",
       "      <td>4</td>\n",
       "      <td>0</td>\n",
       "      <td>0</td>\n",
       "      <td>0</td>\n",
       "      <td>1</td>\n",
       "      <td>0</td>\n",
       "      <td>0</td>\n",
       "      <td>0</td>\n",
       "    </tr>\n",
       "    <tr>\n",
       "      <th>4</th>\n",
       "      <td>4</td>\n",
       "      <td>1991-04-01 00:00:00</td>\n",
       "      <td>0</td>\n",
       "      <td>1</td>\n",
       "      <td>1</td>\n",
       "      <td>60</td>\n",
       "      <td>4</td>\n",
       "      <td>0</td>\n",
       "      <td>0</td>\n",
       "      <td>0</td>\n",
       "      <td>1</td>\n",
       "      <td>0</td>\n",
       "      <td>0</td>\n",
       "      <td>0</td>\n",
       "    </tr>\n",
       "    <tr>\n",
       "      <th>...</th>\n",
       "      <td>...</td>\n",
       "      <td>...</td>\n",
       "      <td>...</td>\n",
       "      <td>...</td>\n",
       "      <td>...</td>\n",
       "      <td>...</td>\n",
       "      <td>...</td>\n",
       "      <td>...</td>\n",
       "      <td>...</td>\n",
       "      <td>...</td>\n",
       "      <td>...</td>\n",
       "      <td>...</td>\n",
       "      <td>...</td>\n",
       "      <td>...</td>\n",
       "    </tr>\n",
       "    <tr>\n",
       "      <th>848830</th>\n",
       "      <td>848830</td>\n",
       "      <td>1991-09-30 11:40:00</td>\n",
       "      <td>2</td>\n",
       "      <td>3</td>\n",
       "      <td>1</td>\n",
       "      <td>54</td>\n",
       "      <td>9</td>\n",
       "      <td>0</td>\n",
       "      <td>11</td>\n",
       "      <td>40</td>\n",
       "      <td>0</td>\n",
       "      <td>1</td>\n",
       "      <td>0</td>\n",
       "      <td>0</td>\n",
       "    </tr>\n",
       "    <tr>\n",
       "      <th>848831</th>\n",
       "      <td>848831</td>\n",
       "      <td>1991-09-30 11:40:00</td>\n",
       "      <td>2</td>\n",
       "      <td>3</td>\n",
       "      <td>2</td>\n",
       "      <td>28</td>\n",
       "      <td>9</td>\n",
       "      <td>0</td>\n",
       "      <td>11</td>\n",
       "      <td>40</td>\n",
       "      <td>0</td>\n",
       "      <td>1</td>\n",
       "      <td>0</td>\n",
       "      <td>0</td>\n",
       "    </tr>\n",
       "    <tr>\n",
       "      <th>848832</th>\n",
       "      <td>848832</td>\n",
       "      <td>1991-09-30 11:40:00</td>\n",
       "      <td>2</td>\n",
       "      <td>3</td>\n",
       "      <td>4</td>\n",
       "      <td>68</td>\n",
       "      <td>9</td>\n",
       "      <td>0</td>\n",
       "      <td>11</td>\n",
       "      <td>40</td>\n",
       "      <td>0</td>\n",
       "      <td>1</td>\n",
       "      <td>0</td>\n",
       "      <td>0</td>\n",
       "    </tr>\n",
       "    <tr>\n",
       "      <th>848833</th>\n",
       "      <td>848833</td>\n",
       "      <td>1991-09-30 11:40:00</td>\n",
       "      <td>2</td>\n",
       "      <td>3</td>\n",
       "      <td>6</td>\n",
       "      <td>17</td>\n",
       "      <td>9</td>\n",
       "      <td>0</td>\n",
       "      <td>11</td>\n",
       "      <td>40</td>\n",
       "      <td>0</td>\n",
       "      <td>1</td>\n",
       "      <td>0</td>\n",
       "      <td>0</td>\n",
       "    </tr>\n",
       "    <tr>\n",
       "      <th>848834</th>\n",
       "      <td>848834</td>\n",
       "      <td>1991-09-30 11:40:00</td>\n",
       "      <td>2</td>\n",
       "      <td>3</td>\n",
       "      <td>7</td>\n",
       "      <td>24</td>\n",
       "      <td>9</td>\n",
       "      <td>0</td>\n",
       "      <td>11</td>\n",
       "      <td>40</td>\n",
       "      <td>0</td>\n",
       "      <td>1</td>\n",
       "      <td>0</td>\n",
       "      <td>0</td>\n",
       "    </tr>\n",
       "  </tbody>\n",
       "</table>\n",
       "<p>848835 rows × 14 columns</p>\n",
       "</div>"
      ],
      "text/plain": [
       "        row_id                time  x  y  direction  congestion  month  \\\n",
       "0            0 1991-04-01 00:00:00  0  0          0          70      4   \n",
       "1            1 1991-04-01 00:00:00  0  0          1          49      4   \n",
       "2            2 1991-04-01 00:00:00  0  0          4          24      4   \n",
       "3            3 1991-04-01 00:00:00  0  1          0          18      4   \n",
       "4            4 1991-04-01 00:00:00  0  1          1          60      4   \n",
       "...        ...                 ... .. ..        ...         ...    ...   \n",
       "848830  848830 1991-09-30 11:40:00  2  3          1          54      9   \n",
       "848831  848831 1991-09-30 11:40:00  2  3          2          28      9   \n",
       "848832  848832 1991-09-30 11:40:00  2  3          4          68      9   \n",
       "848833  848833 1991-09-30 11:40:00  2  3          6          17      9   \n",
       "848834  848834 1991-09-30 11:40:00  2  3          7          24      9   \n",
       "\n",
       "        weekday  hour  minute  is_month_start  is_month_end  is_weekend  \\\n",
       "0             0     0       0               1             0           0   \n",
       "1             0     0       0               1             0           0   \n",
       "2             0     0       0               1             0           0   \n",
       "3             0     0       0               1             0           0   \n",
       "4             0     0       0               1             0           0   \n",
       "...         ...   ...     ...             ...           ...         ...   \n",
       "848830        0    11      40               0             1           0   \n",
       "848831        0    11      40               0             1           0   \n",
       "848832        0    11      40               0             1           0   \n",
       "848833        0    11      40               0             1           0   \n",
       "848834        0    11      40               0             1           0   \n",
       "\n",
       "        is_afternoon  \n",
       "0                  0  \n",
       "1                  0  \n",
       "2                  0  \n",
       "3                  0  \n",
       "4                  0  \n",
       "...              ...  \n",
       "848830             0  \n",
       "848831             0  \n",
       "848832             0  \n",
       "848833             0  \n",
       "848834             0  \n",
       "\n",
       "[848835 rows x 14 columns]"
      ]
     },
     "execution_count": 19,
     "metadata": {},
     "output_type": "execute_result"
    }
   ],
   "source": [
    "from sklearn.preprocessing import LabelEncoder\n",
    "lbe = LabelEncoder()\n",
    "\n",
    "train[\"direction\"] = lbe.fit_transform(train[\"direction\"])\n",
    "train[\"weekday\"] = lbe.fit_transform(train[\"weekday\"])\n",
    "train"
   ]
  },
  {
   "cell_type": "code",
   "execution_count": 20,
   "id": "79b78f69",
   "metadata": {
    "execution": {
     "iopub.execute_input": "2022-03-09T22:29:36.653088Z",
     "iopub.status.busy": "2022-03-09T22:29:36.652127Z",
     "iopub.status.idle": "2022-03-09T22:29:36.669921Z",
     "shell.execute_reply": "2022-03-09T22:29:36.670413Z",
     "shell.execute_reply.started": "2022-03-09T21:43:47.334718Z"
    },
    "papermill": {
     "duration": 0.070802,
     "end_time": "2022-03-09T22:29:36.670573",
     "exception": false,
     "start_time": "2022-03-09T22:29:36.599771",
     "status": "completed"
    },
    "tags": []
   },
   "outputs": [
    {
     "data": {
      "text/html": [
       "<div>\n",
       "<style scoped>\n",
       "    .dataframe tbody tr th:only-of-type {\n",
       "        vertical-align: middle;\n",
       "    }\n",
       "\n",
       "    .dataframe tbody tr th {\n",
       "        vertical-align: top;\n",
       "    }\n",
       "\n",
       "    .dataframe thead th {\n",
       "        text-align: right;\n",
       "    }\n",
       "</style>\n",
       "<table border=\"1\" class=\"dataframe\">\n",
       "  <thead>\n",
       "    <tr style=\"text-align: right;\">\n",
       "      <th></th>\n",
       "      <th>row_id</th>\n",
       "      <th>time</th>\n",
       "      <th>x</th>\n",
       "      <th>y</th>\n",
       "      <th>direction</th>\n",
       "      <th>month</th>\n",
       "      <th>weekday</th>\n",
       "      <th>hour</th>\n",
       "      <th>minute</th>\n",
       "      <th>is_month_start</th>\n",
       "      <th>is_month_end</th>\n",
       "      <th>is_weekend</th>\n",
       "      <th>is_afternoon</th>\n",
       "    </tr>\n",
       "  </thead>\n",
       "  <tbody>\n",
       "    <tr>\n",
       "      <th>0</th>\n",
       "      <td>848835</td>\n",
       "      <td>1991-09-30 12:00:00</td>\n",
       "      <td>0</td>\n",
       "      <td>0</td>\n",
       "      <td>0</td>\n",
       "      <td>9</td>\n",
       "      <td>0</td>\n",
       "      <td>12</td>\n",
       "      <td>0</td>\n",
       "      <td>0</td>\n",
       "      <td>1</td>\n",
       "      <td>0</td>\n",
       "      <td>0</td>\n",
       "    </tr>\n",
       "    <tr>\n",
       "      <th>1</th>\n",
       "      <td>848836</td>\n",
       "      <td>1991-09-30 12:00:00</td>\n",
       "      <td>0</td>\n",
       "      <td>0</td>\n",
       "      <td>1</td>\n",
       "      <td>9</td>\n",
       "      <td>0</td>\n",
       "      <td>12</td>\n",
       "      <td>0</td>\n",
       "      <td>0</td>\n",
       "      <td>1</td>\n",
       "      <td>0</td>\n",
       "      <td>0</td>\n",
       "    </tr>\n",
       "    <tr>\n",
       "      <th>2</th>\n",
       "      <td>848837</td>\n",
       "      <td>1991-09-30 12:00:00</td>\n",
       "      <td>0</td>\n",
       "      <td>0</td>\n",
       "      <td>4</td>\n",
       "      <td>9</td>\n",
       "      <td>0</td>\n",
       "      <td>12</td>\n",
       "      <td>0</td>\n",
       "      <td>0</td>\n",
       "      <td>1</td>\n",
       "      <td>0</td>\n",
       "      <td>0</td>\n",
       "    </tr>\n",
       "    <tr>\n",
       "      <th>3</th>\n",
       "      <td>848838</td>\n",
       "      <td>1991-09-30 12:00:00</td>\n",
       "      <td>0</td>\n",
       "      <td>1</td>\n",
       "      <td>0</td>\n",
       "      <td>9</td>\n",
       "      <td>0</td>\n",
       "      <td>12</td>\n",
       "      <td>0</td>\n",
       "      <td>0</td>\n",
       "      <td>1</td>\n",
       "      <td>0</td>\n",
       "      <td>0</td>\n",
       "    </tr>\n",
       "    <tr>\n",
       "      <th>4</th>\n",
       "      <td>848839</td>\n",
       "      <td>1991-09-30 12:00:00</td>\n",
       "      <td>0</td>\n",
       "      <td>1</td>\n",
       "      <td>1</td>\n",
       "      <td>9</td>\n",
       "      <td>0</td>\n",
       "      <td>12</td>\n",
       "      <td>0</td>\n",
       "      <td>0</td>\n",
       "      <td>1</td>\n",
       "      <td>0</td>\n",
       "      <td>0</td>\n",
       "    </tr>\n",
       "    <tr>\n",
       "      <th>...</th>\n",
       "      <td>...</td>\n",
       "      <td>...</td>\n",
       "      <td>...</td>\n",
       "      <td>...</td>\n",
       "      <td>...</td>\n",
       "      <td>...</td>\n",
       "      <td>...</td>\n",
       "      <td>...</td>\n",
       "      <td>...</td>\n",
       "      <td>...</td>\n",
       "      <td>...</td>\n",
       "      <td>...</td>\n",
       "      <td>...</td>\n",
       "    </tr>\n",
       "    <tr>\n",
       "      <th>2335</th>\n",
       "      <td>851170</td>\n",
       "      <td>1991-09-30 23:40:00</td>\n",
       "      <td>2</td>\n",
       "      <td>3</td>\n",
       "      <td>1</td>\n",
       "      <td>9</td>\n",
       "      <td>0</td>\n",
       "      <td>23</td>\n",
       "      <td>40</td>\n",
       "      <td>0</td>\n",
       "      <td>1</td>\n",
       "      <td>0</td>\n",
       "      <td>1</td>\n",
       "    </tr>\n",
       "    <tr>\n",
       "      <th>2336</th>\n",
       "      <td>851171</td>\n",
       "      <td>1991-09-30 23:40:00</td>\n",
       "      <td>2</td>\n",
       "      <td>3</td>\n",
       "      <td>2</td>\n",
       "      <td>9</td>\n",
       "      <td>0</td>\n",
       "      <td>23</td>\n",
       "      <td>40</td>\n",
       "      <td>0</td>\n",
       "      <td>1</td>\n",
       "      <td>0</td>\n",
       "      <td>1</td>\n",
       "    </tr>\n",
       "    <tr>\n",
       "      <th>2337</th>\n",
       "      <td>851172</td>\n",
       "      <td>1991-09-30 23:40:00</td>\n",
       "      <td>2</td>\n",
       "      <td>3</td>\n",
       "      <td>4</td>\n",
       "      <td>9</td>\n",
       "      <td>0</td>\n",
       "      <td>23</td>\n",
       "      <td>40</td>\n",
       "      <td>0</td>\n",
       "      <td>1</td>\n",
       "      <td>0</td>\n",
       "      <td>1</td>\n",
       "    </tr>\n",
       "    <tr>\n",
       "      <th>2338</th>\n",
       "      <td>851173</td>\n",
       "      <td>1991-09-30 23:40:00</td>\n",
       "      <td>2</td>\n",
       "      <td>3</td>\n",
       "      <td>6</td>\n",
       "      <td>9</td>\n",
       "      <td>0</td>\n",
       "      <td>23</td>\n",
       "      <td>40</td>\n",
       "      <td>0</td>\n",
       "      <td>1</td>\n",
       "      <td>0</td>\n",
       "      <td>1</td>\n",
       "    </tr>\n",
       "    <tr>\n",
       "      <th>2339</th>\n",
       "      <td>851174</td>\n",
       "      <td>1991-09-30 23:40:00</td>\n",
       "      <td>2</td>\n",
       "      <td>3</td>\n",
       "      <td>7</td>\n",
       "      <td>9</td>\n",
       "      <td>0</td>\n",
       "      <td>23</td>\n",
       "      <td>40</td>\n",
       "      <td>0</td>\n",
       "      <td>1</td>\n",
       "      <td>0</td>\n",
       "      <td>1</td>\n",
       "    </tr>\n",
       "  </tbody>\n",
       "</table>\n",
       "<p>2340 rows × 13 columns</p>\n",
       "</div>"
      ],
      "text/plain": [
       "      row_id                time  x  y  direction  month  weekday  hour  \\\n",
       "0     848835 1991-09-30 12:00:00  0  0          0      9        0    12   \n",
       "1     848836 1991-09-30 12:00:00  0  0          1      9        0    12   \n",
       "2     848837 1991-09-30 12:00:00  0  0          4      9        0    12   \n",
       "3     848838 1991-09-30 12:00:00  0  1          0      9        0    12   \n",
       "4     848839 1991-09-30 12:00:00  0  1          1      9        0    12   \n",
       "...      ...                 ... .. ..        ...    ...      ...   ...   \n",
       "2335  851170 1991-09-30 23:40:00  2  3          1      9        0    23   \n",
       "2336  851171 1991-09-30 23:40:00  2  3          2      9        0    23   \n",
       "2337  851172 1991-09-30 23:40:00  2  3          4      9        0    23   \n",
       "2338  851173 1991-09-30 23:40:00  2  3          6      9        0    23   \n",
       "2339  851174 1991-09-30 23:40:00  2  3          7      9        0    23   \n",
       "\n",
       "      minute  is_month_start  is_month_end  is_weekend  is_afternoon  \n",
       "0          0               0             1           0             0  \n",
       "1          0               0             1           0             0  \n",
       "2          0               0             1           0             0  \n",
       "3          0               0             1           0             0  \n",
       "4          0               0             1           0             0  \n",
       "...      ...             ...           ...         ...           ...  \n",
       "2335      40               0             1           0             1  \n",
       "2336      40               0             1           0             1  \n",
       "2337      40               0             1           0             1  \n",
       "2338      40               0             1           0             1  \n",
       "2339      40               0             1           0             1  \n",
       "\n",
       "[2340 rows x 13 columns]"
      ]
     },
     "execution_count": 20,
     "metadata": {},
     "output_type": "execute_result"
    }
   ],
   "source": [
    "test[\"direction\"] = lbe.fit_transform(test[\"direction\"])\n",
    "test[\"weekday\"] = lbe.fit_transform(test[\"weekday\"])\n",
    "test"
   ]
  },
  {
   "cell_type": "code",
   "execution_count": 21,
   "id": "4d617fbf",
   "metadata": {
    "execution": {
     "iopub.execute_input": "2022-03-09T22:29:36.774673Z",
     "iopub.status.busy": "2022-03-09T22:29:36.773696Z",
     "iopub.status.idle": "2022-03-09T22:29:37.150643Z",
     "shell.execute_reply": "2022-03-09T22:29:37.149931Z",
     "shell.execute_reply.started": "2022-03-09T21:43:48.442864Z"
    },
    "papermill": {
     "duration": 0.430099,
     "end_time": "2022-03-09T22:29:37.150799",
     "exception": false,
     "start_time": "2022-03-09T22:29:36.720700",
     "status": "completed"
    },
    "tags": []
   },
   "outputs": [],
   "source": [
    "from sklearn.model_selection import train_test_split, GridSearchCV, cross_val_score\n",
    "y = train[\"congestion\"]\n",
    "X = train.drop([\"congestion\",\"time\"], axis = 1)\n",
    "X_train, X_test, y_train, y_test = train_test_split(X, y, test_size = 0.20)"
   ]
  },
  {
   "cell_type": "markdown",
   "id": "2baae5ec",
   "metadata": {
    "papermill": {
     "duration": 0.051488,
     "end_time": "2022-03-09T22:29:37.255043",
     "exception": false,
     "start_time": "2022-03-09T22:29:37.203555",
     "status": "completed"
    },
    "tags": []
   },
   "source": [
    "# Model Selection"
   ]
  },
  {
   "cell_type": "markdown",
   "id": "217661f6",
   "metadata": {
    "papermill": {
     "duration": 0.050332,
     "end_time": "2022-03-09T22:29:37.360690",
     "exception": false,
     "start_time": "2022-03-09T22:29:37.310358",
     "status": "completed"
    },
    "tags": []
   },
   "source": [
    "## KNN"
   ]
  },
  {
   "cell_type": "markdown",
   "id": "fadf3d95",
   "metadata": {
    "papermill": {
     "duration": 0.050116,
     "end_time": "2022-03-09T22:29:37.461502",
     "exception": false,
     "start_time": "2022-03-09T22:29:37.411386",
     "status": "completed"
    },
    "tags": []
   },
   "source": [
    "from sklearn.neighbors import KNeighborsRegressor\n",
    "\n",
    "knn_params = {\"n_neighbors\" : np.arange(1,30,1)}\n",
    "\n",
    "knn = KNeighborsRegressor()\n",
    "\n",
    "knn_cv_model = GridSearchCV(knn, knn_params, cv=10)\n",
    "knn_cv_model.fit(X_train, y_train)"
   ]
  },
  {
   "cell_type": "markdown",
   "id": "c94ba9d6",
   "metadata": {
    "papermill": {
     "duration": 0.058105,
     "end_time": "2022-03-09T22:29:37.571602",
     "exception": false,
     "start_time": "2022-03-09T22:29:37.513497",
     "status": "completed"
    },
    "tags": []
   },
   "source": [
    "knn_cv_model.best_params_[\"n_neighbors\"]"
   ]
  },
  {
   "cell_type": "code",
   "execution_count": 22,
   "id": "6be564fe",
   "metadata": {
    "execution": {
     "iopub.execute_input": "2022-03-09T22:29:37.699975Z",
     "iopub.status.busy": "2022-03-09T22:29:37.699005Z",
     "iopub.status.idle": "2022-03-09T22:29:40.718550Z",
     "shell.execute_reply": "2022-03-09T22:29:40.719282Z",
     "shell.execute_reply.started": "2022-03-09T21:43:51.506840Z"
    },
    "papermill": {
     "duration": 3.078522,
     "end_time": "2022-03-09T22:29:40.719471",
     "exception": false,
     "start_time": "2022-03-09T22:29:37.640949",
     "status": "completed"
    },
    "tags": []
   },
   "outputs": [
    {
     "data": {
      "text/plain": [
       "KNeighborsRegressor(n_neighbors=17)"
      ]
     },
     "execution_count": 22,
     "metadata": {},
     "output_type": "execute_result"
    }
   ],
   "source": [
    "from sklearn.neighbors import KNeighborsRegressor\n",
    "knn_tuned = KNeighborsRegressor(n_neighbors = 17)\n",
    "knn_tuned.fit(X_train, y_train)"
   ]
  },
  {
   "cell_type": "code",
   "execution_count": 23,
   "id": "9e7c94e1",
   "metadata": {
    "execution": {
     "iopub.execute_input": "2022-03-09T22:29:40.829663Z",
     "iopub.status.busy": "2022-03-09T22:29:40.828641Z",
     "iopub.status.idle": "2022-03-09T22:29:43.234038Z",
     "shell.execute_reply": "2022-03-09T22:29:43.234517Z",
     "shell.execute_reply.started": "2022-03-09T21:50:24.811523Z"
    },
    "papermill": {
     "duration": 2.463886,
     "end_time": "2022-03-09T22:29:43.234718",
     "exception": false,
     "start_time": "2022-03-09T22:29:40.770832",
     "status": "completed"
    },
    "tags": []
   },
   "outputs": [
    {
     "data": {
      "text/plain": [
       "16.457485353660346"
      ]
     },
     "execution_count": 23,
     "metadata": {},
     "output_type": "execute_result"
    }
   ],
   "source": [
    "from sklearn.metrics import mean_squared_error\n",
    "\n",
    "y_pred = knn_tuned.predict(X_test)\n",
    "np.sqrt(mean_squared_error(y_test, y_pred))"
   ]
  },
  {
   "cell_type": "markdown",
   "id": "6004a329",
   "metadata": {
    "papermill": {
     "duration": 0.0588,
     "end_time": "2022-03-09T22:29:43.346774",
     "exception": false,
     "start_time": "2022-03-09T22:29:43.287974",
     "status": "completed"
    },
    "tags": []
   },
   "source": [
    "## Random Forests"
   ]
  },
  {
   "cell_type": "code",
   "execution_count": 24,
   "id": "5030416c",
   "metadata": {
    "execution": {
     "iopub.execute_input": "2022-03-09T22:29:43.455771Z",
     "iopub.status.busy": "2022-03-09T22:29:43.454750Z",
     "iopub.status.idle": "2022-03-09T22:29:43.560899Z",
     "shell.execute_reply": "2022-03-09T22:29:43.561626Z",
     "shell.execute_reply.started": "2022-03-09T21:43:58.005658Z"
    },
    "papermill": {
     "duration": 0.162941,
     "end_time": "2022-03-09T22:29:43.561851",
     "exception": false,
     "start_time": "2022-03-09T22:29:43.398910",
     "status": "completed"
    },
    "tags": []
   },
   "outputs": [],
   "source": [
    "from sklearn.ensemble import RandomForestRegressor\n",
    "rf_model = RandomForestRegressor()"
   ]
  },
  {
   "cell_type": "markdown",
   "id": "ff9556ba",
   "metadata": {
    "papermill": {
     "duration": 0.053384,
     "end_time": "2022-03-09T22:29:43.668462",
     "exception": false,
     "start_time": "2022-03-09T22:29:43.615078",
     "status": "completed"
    },
    "tags": []
   },
   "source": [
    "rf_params = {\"max_depth\" : list(range(1,10)),\n",
    "             \"max_features\" : [3,5,10,15],\n",
    "             \"n_estimators\" : [100, 200, 500, 1000, 2000]}"
   ]
  },
  {
   "cell_type": "markdown",
   "id": "4bb7bf7c",
   "metadata": {
    "papermill": {
     "duration": 0.055237,
     "end_time": "2022-03-09T22:29:43.777396",
     "exception": false,
     "start_time": "2022-03-09T22:29:43.722159",
     "status": "completed"
    },
    "tags": []
   },
   "source": [
    "rf_cv_model = GridSearchCV(rf_model, rf_params, cv=10, n_jobs=-1)"
   ]
  },
  {
   "cell_type": "markdown",
   "id": "f1d11061",
   "metadata": {
    "papermill": {
     "duration": 0.057151,
     "end_time": "2022-03-09T22:29:43.888097",
     "exception": false,
     "start_time": "2022-03-09T22:29:43.830946",
     "status": "completed"
    },
    "tags": []
   },
   "source": [
    "rf_cv_model.fit(X_train, y_train)"
   ]
  },
  {
   "cell_type": "markdown",
   "id": "a279ccb2",
   "metadata": {
    "papermill": {
     "duration": 0.054492,
     "end_time": "2022-03-09T22:29:44.000796",
     "exception": false,
     "start_time": "2022-03-09T22:29:43.946304",
     "status": "completed"
    },
    "tags": []
   },
   "source": [
    "rf_cv_model.best_params_"
   ]
  },
  {
   "cell_type": "markdown",
   "id": "098c0c54",
   "metadata": {
    "papermill": {
     "duration": 0.057546,
     "end_time": "2022-03-09T22:29:44.119438",
     "exception": false,
     "start_time": "2022-03-09T22:29:44.061892",
     "status": "completed"
    },
    "tags": []
   },
   "source": [
    "rf_tuned = RandomForestRegressor(max_depth = pd.Series(rf_cv_model.best_params_)[0],\n",
    "                                 max_features = pd.Series(rf_cv_model.best_params_)[1],\n",
    "                                 n_estimators = pd.Series(rf_cv_model.best_params_)[2])"
   ]
  },
  {
   "cell_type": "code",
   "execution_count": 25,
   "id": "5ce8bc8f",
   "metadata": {
    "execution": {
     "iopub.execute_input": "2022-03-09T22:29:44.243524Z",
     "iopub.status.busy": "2022-03-09T22:29:44.242450Z",
     "iopub.status.idle": "2022-03-09T22:34:55.011051Z",
     "shell.execute_reply": "2022-03-09T22:34:55.011573Z",
     "shell.execute_reply.started": "2022-03-09T21:44:00.002763Z"
    },
    "papermill": {
     "duration": 310.83841,
     "end_time": "2022-03-09T22:34:55.011743",
     "exception": false,
     "start_time": "2022-03-09T22:29:44.173333",
     "status": "completed"
    },
    "tags": []
   },
   "outputs": [
    {
     "data": {
      "text/plain": [
       "RandomForestRegressor()"
      ]
     },
     "execution_count": 25,
     "metadata": {},
     "output_type": "execute_result"
    }
   ],
   "source": [
    "rf_model.fit(X_train, y_train)"
   ]
  },
  {
   "cell_type": "code",
   "execution_count": 26,
   "id": "42e8ea32",
   "metadata": {
    "execution": {
     "iopub.execute_input": "2022-03-09T22:34:55.124850Z",
     "iopub.status.busy": "2022-03-09T22:34:55.124138Z",
     "iopub.status.idle": "2022-03-09T22:35:11.326749Z",
     "shell.execute_reply": "2022-03-09T22:35:11.326083Z",
     "shell.execute_reply.started": "2022-03-09T21:50:35.646644Z"
    },
    "papermill": {
     "duration": 16.262203,
     "end_time": "2022-03-09T22:35:11.326892",
     "exception": false,
     "start_time": "2022-03-09T22:34:55.064689",
     "status": "completed"
    },
    "tags": []
   },
   "outputs": [
    {
     "data": {
      "text/plain": [
       "8.389696524558241"
      ]
     },
     "execution_count": 26,
     "metadata": {},
     "output_type": "execute_result"
    }
   ],
   "source": [
    "y_pred = rf_model.predict(X_test)\n",
    "np.sqrt(mean_squared_error(y_pred,y_test))"
   ]
  },
  {
   "cell_type": "code",
   "execution_count": 27,
   "id": "05967a37",
   "metadata": {
    "execution": {
     "iopub.execute_input": "2022-03-09T22:35:11.440517Z",
     "iopub.status.busy": "2022-03-09T22:35:11.439829Z",
     "iopub.status.idle": "2022-03-09T22:36:13.933453Z",
     "shell.execute_reply": "2022-03-09T22:36:13.934037Z",
     "shell.execute_reply.started": "2022-03-09T21:49:33.105738Z"
    },
    "papermill": {
     "duration": 62.554761,
     "end_time": "2022-03-09T22:36:13.934264",
     "exception": false,
     "start_time": "2022-03-09T22:35:11.379503",
     "status": "completed"
    },
    "tags": []
   },
   "outputs": [
    {
     "data": {
      "text/plain": [
       "array([30.97, 51.62, 55.71, ..., 55.43, 57.75, 29.8 ])"
      ]
     },
     "execution_count": 27,
     "metadata": {},
     "output_type": "execute_result"
    }
   ],
   "source": [
    "rf_model.predict(X_train)"
   ]
  },
  {
   "cell_type": "code",
   "execution_count": 28,
   "id": "e92979cc",
   "metadata": {
    "execution": {
     "iopub.execute_input": "2022-03-09T22:36:14.047850Z",
     "iopub.status.busy": "2022-03-09T22:36:14.047182Z",
     "iopub.status.idle": "2022-03-09T22:36:14.049786Z",
     "shell.execute_reply": "2022-03-09T22:36:14.050231Z",
     "shell.execute_reply.started": "2022-03-09T21:49:33.107901Z"
    },
    "papermill": {
     "duration": 0.06376,
     "end_time": "2022-03-09T22:36:14.050392",
     "exception": false,
     "start_time": "2022-03-09T22:36:13.986632",
     "status": "completed"
    },
    "tags": []
   },
   "outputs": [
    {
     "data": {
      "text/plain": [
       "193128    36\n",
       "702744    51\n",
       "144791    58\n",
       "531977    45\n",
       "739095    19\n",
       "          ..\n",
       "407630    29\n",
       "27555     64\n",
       "505211    54\n",
       "401201    59\n",
       "507061    29\n",
       "Name: congestion, Length: 679068, dtype: int64"
      ]
     },
     "execution_count": 28,
     "metadata": {},
     "output_type": "execute_result"
    }
   ],
   "source": [
    "y_train"
   ]
  },
  {
   "cell_type": "markdown",
   "id": "a57d0182",
   "metadata": {
    "papermill": {
     "duration": 0.052997,
     "end_time": "2022-03-09T22:36:14.156422",
     "exception": false,
     "start_time": "2022-03-09T22:36:14.103425",
     "status": "completed"
    },
    "tags": []
   },
   "source": [
    "## XGBoost"
   ]
  },
  {
   "cell_type": "code",
   "execution_count": 29,
   "id": "8d1dd07f",
   "metadata": {
    "execution": {
     "iopub.execute_input": "2022-03-09T22:36:14.270366Z",
     "iopub.status.busy": "2022-03-09T22:36:14.269624Z",
     "iopub.status.idle": "2022-03-09T22:36:14.391031Z",
     "shell.execute_reply": "2022-03-09T22:36:14.391482Z"
    },
    "papermill": {
     "duration": 0.180777,
     "end_time": "2022-03-09T22:36:14.391668",
     "exception": false,
     "start_time": "2022-03-09T22:36:14.210891",
     "status": "completed"
    },
    "tags": []
   },
   "outputs": [],
   "source": [
    "from xgboost import XGBRegressor\n",
    "xgb_model = XGBRegressor()"
   ]
  },
  {
   "cell_type": "code",
   "execution_count": 30,
   "id": "eb3bd2fa",
   "metadata": {
    "execution": {
     "iopub.execute_input": "2022-03-09T22:36:14.502564Z",
     "iopub.status.busy": "2022-03-09T22:36:14.501963Z",
     "iopub.status.idle": "2022-03-09T22:36:56.485832Z",
     "shell.execute_reply": "2022-03-09T22:36:56.486388Z"
    },
    "papermill": {
     "duration": 42.041081,
     "end_time": "2022-03-09T22:36:56.486576",
     "exception": false,
     "start_time": "2022-03-09T22:36:14.445495",
     "status": "completed"
    },
    "tags": []
   },
   "outputs": [
    {
     "data": {
      "text/plain": [
       "XGBRegressor(base_score=0.5, booster='gbtree', colsample_bylevel=1,\n",
       "             colsample_bynode=1, colsample_bytree=1, enable_categorical=False,\n",
       "             gamma=0, gpu_id=-1, importance_type=None,\n",
       "             interaction_constraints='', learning_rate=0.300000012,\n",
       "             max_delta_step=0, max_depth=6, min_child_weight=1, missing=nan,\n",
       "             monotone_constraints='()', n_estimators=100, n_jobs=4,\n",
       "             num_parallel_tree=1, predictor='auto', random_state=0, reg_alpha=0,\n",
       "             reg_lambda=1, scale_pos_weight=1, subsample=1, tree_method='exact',\n",
       "             validate_parameters=1, verbosity=None)"
      ]
     },
     "execution_count": 30,
     "metadata": {},
     "output_type": "execute_result"
    }
   ],
   "source": [
    "xgb_model.fit(X_train, y_train)"
   ]
  },
  {
   "cell_type": "code",
   "execution_count": 31,
   "id": "3651eda7",
   "metadata": {
    "execution": {
     "iopub.execute_input": "2022-03-09T22:36:56.604031Z",
     "iopub.status.busy": "2022-03-09T22:36:56.603342Z",
     "iopub.status.idle": "2022-03-09T22:36:56.802938Z",
     "shell.execute_reply": "2022-03-09T22:36:56.803432Z"
    },
    "papermill": {
     "duration": 0.259849,
     "end_time": "2022-03-09T22:36:56.803629",
     "exception": false,
     "start_time": "2022-03-09T22:36:56.543780",
     "status": "completed"
    },
    "tags": []
   },
   "outputs": [
    {
     "data": {
      "text/plain": [
       "9.301419277239242"
      ]
     },
     "execution_count": 31,
     "metadata": {},
     "output_type": "execute_result"
    }
   ],
   "source": [
    "y_pred = xgb_model.predict(X_test)\n",
    "np.sqrt(mean_squared_error(y_pred, y_test))"
   ]
  },
  {
   "cell_type": "code",
   "execution_count": 32,
   "id": "b34b442d",
   "metadata": {
    "execution": {
     "iopub.execute_input": "2022-03-09T22:36:56.915144Z",
     "iopub.status.busy": "2022-03-09T22:36:56.914523Z",
     "iopub.status.idle": "2022-03-09T22:36:57.692667Z",
     "shell.execute_reply": "2022-03-09T22:36:57.691998Z"
    },
    "papermill": {
     "duration": 0.834796,
     "end_time": "2022-03-09T22:36:57.692808",
     "exception": false,
     "start_time": "2022-03-09T22:36:56.858012",
     "status": "completed"
    },
    "tags": []
   },
   "outputs": [
    {
     "data": {
      "text/plain": [
       "array([26.357727, 59.32989 , 49.25298 , ..., 48.515884, 40.78318 ,\n",
       "       28.442173], dtype=float32)"
      ]
     },
     "execution_count": 32,
     "metadata": {},
     "output_type": "execute_result"
    }
   ],
   "source": [
    "xgb_model.predict(X_train)"
   ]
  },
  {
   "cell_type": "code",
   "execution_count": 33,
   "id": "12322c2e",
   "metadata": {
    "execution": {
     "iopub.execute_input": "2022-03-09T22:36:57.827951Z",
     "iopub.status.busy": "2022-03-09T22:36:57.827088Z",
     "iopub.status.idle": "2022-03-09T22:36:57.830370Z",
     "shell.execute_reply": "2022-03-09T22:36:57.830804Z"
    },
    "papermill": {
     "duration": 0.066854,
     "end_time": "2022-03-09T22:36:57.830979",
     "exception": false,
     "start_time": "2022-03-09T22:36:57.764125",
     "status": "completed"
    },
    "tags": []
   },
   "outputs": [
    {
     "data": {
      "text/plain": [
       "193128    36\n",
       "702744    51\n",
       "144791    58\n",
       "531977    45\n",
       "739095    19\n",
       "          ..\n",
       "407630    29\n",
       "27555     64\n",
       "505211    54\n",
       "401201    59\n",
       "507061    29\n",
       "Name: congestion, Length: 679068, dtype: int64"
      ]
     },
     "execution_count": 33,
     "metadata": {},
     "output_type": "execute_result"
    }
   ],
   "source": [
    "y_train"
   ]
  },
  {
   "cell_type": "markdown",
   "id": "e99029cb",
   "metadata": {
    "papermill": {
     "duration": 0.055431,
     "end_time": "2022-03-09T22:36:57.941733",
     "exception": false,
     "start_time": "2022-03-09T22:36:57.886302",
     "status": "completed"
    },
    "tags": []
   },
   "source": [
    "## LightGBM"
   ]
  },
  {
   "cell_type": "code",
   "execution_count": 34,
   "id": "a6a69abe",
   "metadata": {
    "execution": {
     "iopub.execute_input": "2022-03-09T22:36:58.055359Z",
     "iopub.status.busy": "2022-03-09T22:36:58.054495Z",
     "iopub.status.idle": "2022-03-09T22:37:01.790095Z",
     "shell.execute_reply": "2022-03-09T22:37:01.790729Z"
    },
    "papermill": {
     "duration": 3.794117,
     "end_time": "2022-03-09T22:37:01.790930",
     "exception": false,
     "start_time": "2022-03-09T22:36:57.996813",
     "status": "completed"
    },
    "tags": []
   },
   "outputs": [
    {
     "data": {
      "text/html": [
       "<style type='text/css'>\n",
       ".datatable table.frame { margin-bottom: 0; }\n",
       ".datatable table.frame thead { border-bottom: none; }\n",
       ".datatable table.frame tr.coltypes td {  color: #FFFFFF;  line-height: 6px;  padding: 0 0.5em;}\n",
       ".datatable .bool    { background: #DDDD99; }\n",
       ".datatable .object  { background: #565656; }\n",
       ".datatable .int     { background: #5D9E5D; }\n",
       ".datatable .float   { background: #4040CC; }\n",
       ".datatable .str     { background: #CC4040; }\n",
       ".datatable .time    { background: #40CC40; }\n",
       ".datatable .row_index {  background: var(--jp-border-color3);  border-right: 1px solid var(--jp-border-color0);  color: var(--jp-ui-font-color3);  font-size: 9px;}\n",
       ".datatable .frame tbody td { text-align: left; }\n",
       ".datatable .frame tr.coltypes .row_index {  background: var(--jp-border-color0);}\n",
       ".datatable th:nth-child(2) { padding-left: 12px; }\n",
       ".datatable .hellipsis {  color: var(--jp-cell-editor-border-color);}\n",
       ".datatable .vellipsis {  background: var(--jp-layout-color0);  color: var(--jp-cell-editor-border-color);}\n",
       ".datatable .na {  color: var(--jp-cell-editor-border-color);  font-size: 80%;}\n",
       ".datatable .sp {  opacity: 0.25;}\n",
       ".datatable .footer { font-size: 9px; }\n",
       ".datatable .frame_dimensions {  background: var(--jp-border-color3);  border-top: 1px solid var(--jp-border-color0);  color: var(--jp-ui-font-color3);  display: inline-block;  opacity: 0.6;  padding: 1px 10px 1px 5px;}\n",
       "</style>\n"
      ],
      "text/plain": [
       "<IPython.core.display.HTML object>"
      ]
     },
     "metadata": {},
     "output_type": "display_data"
    }
   ],
   "source": [
    "from lightgbm import LGBMRegressor\n",
    "lgbm = LGBMRegressor()\n",
    "lgbm_model = lgbm.fit(X_train, y_train)"
   ]
  },
  {
   "cell_type": "code",
   "execution_count": 35,
   "id": "fb44dcda",
   "metadata": {
    "execution": {
     "iopub.execute_input": "2022-03-09T22:37:01.910115Z",
     "iopub.status.busy": "2022-03-09T22:37:01.909454Z",
     "iopub.status.idle": "2022-03-09T22:37:02.290399Z",
     "shell.execute_reply": "2022-03-09T22:37:02.290888Z"
    },
    "papermill": {
     "duration": 0.443607,
     "end_time": "2022-03-09T22:37:02.291057",
     "exception": false,
     "start_time": "2022-03-09T22:37:01.847450",
     "status": "completed"
    },
    "tags": []
   },
   "outputs": [
    {
     "data": {
      "text/plain": [
       "9.713176356647049"
      ]
     },
     "execution_count": 35,
     "metadata": {},
     "output_type": "execute_result"
    }
   ],
   "source": [
    "y_pred = lgbm_model.predict(X_test)\n",
    "np.sqrt(mean_squared_error(y_pred, y_test))"
   ]
  },
  {
   "cell_type": "code",
   "execution_count": 36,
   "id": "a1108037",
   "metadata": {
    "execution": {
     "iopub.execute_input": "2022-03-09T22:37:02.406374Z",
     "iopub.status.busy": "2022-03-09T22:37:02.405806Z",
     "iopub.status.idle": "2022-03-09T22:37:03.885965Z",
     "shell.execute_reply": "2022-03-09T22:37:03.886488Z"
    },
    "papermill": {
     "duration": 1.53991,
     "end_time": "2022-03-09T22:37:03.886690",
     "exception": false,
     "start_time": "2022-03-09T22:37:02.346780",
     "status": "completed"
    },
    "tags": []
   },
   "outputs": [
    {
     "data": {
      "text/plain": [
       "array([30.24552684, 57.65007749, 50.84750949, ..., 47.14094725,\n",
       "       36.92467825, 31.78627383])"
      ]
     },
     "execution_count": 36,
     "metadata": {},
     "output_type": "execute_result"
    }
   ],
   "source": [
    "lgbm_model.predict(X_train)"
   ]
  },
  {
   "cell_type": "code",
   "execution_count": 37,
   "id": "8798b78d",
   "metadata": {
    "execution": {
     "iopub.execute_input": "2022-03-09T22:37:04.003271Z",
     "iopub.status.busy": "2022-03-09T22:37:04.002652Z",
     "iopub.status.idle": "2022-03-09T22:37:04.008629Z",
     "shell.execute_reply": "2022-03-09T22:37:04.008069Z"
    },
    "papermill": {
     "duration": 0.066022,
     "end_time": "2022-03-09T22:37:04.008761",
     "exception": false,
     "start_time": "2022-03-09T22:37:03.942739",
     "status": "completed"
    },
    "tags": []
   },
   "outputs": [
    {
     "data": {
      "text/plain": [
       "193128    36\n",
       "702744    51\n",
       "144791    58\n",
       "531977    45\n",
       "739095    19\n",
       "          ..\n",
       "407630    29\n",
       "27555     64\n",
       "505211    54\n",
       "401201    59\n",
       "507061    29\n",
       "Name: congestion, Length: 679068, dtype: int64"
      ]
     },
     "execution_count": 37,
     "metadata": {},
     "output_type": "execute_result"
    }
   ],
   "source": [
    "y_train"
   ]
  },
  {
   "cell_type": "code",
   "execution_count": 38,
   "id": "bbed6f79",
   "metadata": {
    "execution": {
     "iopub.execute_input": "2022-03-09T22:37:04.125865Z",
     "iopub.status.busy": "2022-03-09T22:37:04.125236Z",
     "iopub.status.idle": "2022-03-09T22:37:04.128184Z",
     "shell.execute_reply": "2022-03-09T22:37:04.128660Z"
    },
    "papermill": {
     "duration": 0.063483,
     "end_time": "2022-03-09T22:37:04.128829",
     "exception": false,
     "start_time": "2022-03-09T22:37:04.065346",
     "status": "completed"
    },
    "tags": []
   },
   "outputs": [],
   "source": [
    "# random forest"
   ]
  },
  {
   "cell_type": "code",
   "execution_count": 39,
   "id": "3023200c",
   "metadata": {
    "execution": {
     "iopub.execute_input": "2022-03-09T22:37:04.247514Z",
     "iopub.status.busy": "2022-03-09T22:37:04.246814Z",
     "iopub.status.idle": "2022-03-09T22:37:04.252691Z",
     "shell.execute_reply": "2022-03-09T22:37:04.252175Z",
     "shell.execute_reply.started": "2022-03-09T21:50:52.269417Z"
    },
    "papermill": {
     "duration": 0.065821,
     "end_time": "2022-03-09T22:37:04.252839",
     "exception": false,
     "start_time": "2022-03-09T22:37:04.187018",
     "status": "completed"
    },
    "tags": []
   },
   "outputs": [],
   "source": [
    "test_fixed = test.drop(\"time\", axis=1)"
   ]
  },
  {
   "cell_type": "code",
   "execution_count": 40,
   "id": "93969df6",
   "metadata": {
    "execution": {
     "iopub.execute_input": "2022-03-09T22:37:04.377769Z",
     "iopub.status.busy": "2022-03-09T22:37:04.377062Z",
     "iopub.status.idle": "2022-03-09T22:37:04.482479Z",
     "shell.execute_reply": "2022-03-09T22:37:04.482930Z",
     "shell.execute_reply.started": "2022-03-09T21:50:55.091361Z"
    },
    "papermill": {
     "duration": 0.170237,
     "end_time": "2022-03-09T22:37:04.483124",
     "exception": false,
     "start_time": "2022-03-09T22:37:04.312887",
     "status": "completed"
    },
    "tags": []
   },
   "outputs": [
    {
     "data": {
      "text/plain": [
       "array([56.95, 33.03, 52.71, ..., 64.72, 16.89, 37.03])"
      ]
     },
     "execution_count": 40,
     "metadata": {},
     "output_type": "execute_result"
    }
   ],
   "source": [
    "\n",
    "y_pred = rf_model.predict(test_fixed)\n",
    "y_pred"
   ]
  },
  {
   "cell_type": "code",
   "execution_count": 41,
   "id": "a60a5ca0",
   "metadata": {
    "execution": {
     "iopub.execute_input": "2022-03-09T22:37:04.603466Z",
     "iopub.status.busy": "2022-03-09T22:37:04.602630Z",
     "iopub.status.idle": "2022-03-09T22:37:04.606514Z",
     "shell.execute_reply": "2022-03-09T22:37:04.605907Z",
     "shell.execute_reply.started": "2022-03-09T21:50:57.410967Z"
    },
    "papermill": {
     "duration": 0.065687,
     "end_time": "2022-03-09T22:37:04.606656",
     "exception": false,
     "start_time": "2022-03-09T22:37:04.540969",
     "status": "completed"
    },
    "tags": []
   },
   "outputs": [
    {
     "data": {
      "text/plain": [
       "(2340,)"
      ]
     },
     "execution_count": 41,
     "metadata": {},
     "output_type": "execute_result"
    }
   ],
   "source": [
    "y_pred.shape"
   ]
  },
  {
   "cell_type": "code",
   "execution_count": 42,
   "id": "f589327f",
   "metadata": {
    "execution": {
     "iopub.execute_input": "2022-03-09T22:37:04.728842Z",
     "iopub.status.busy": "2022-03-09T22:37:04.727861Z",
     "iopub.status.idle": "2022-03-09T22:37:04.731023Z",
     "shell.execute_reply": "2022-03-09T22:37:04.730529Z",
     "shell.execute_reply.started": "2022-03-09T21:50:59.449733Z"
    },
    "papermill": {
     "duration": 0.066118,
     "end_time": "2022-03-09T22:37:04.731168",
     "exception": false,
     "start_time": "2022-03-09T22:37:04.665050",
     "status": "completed"
    },
    "tags": []
   },
   "outputs": [],
   "source": [
    "submission[\"congestion\"] = y_pred"
   ]
  },
  {
   "cell_type": "code",
   "execution_count": 43,
   "id": "ae269066",
   "metadata": {
    "execution": {
     "iopub.execute_input": "2022-03-09T22:37:04.863842Z",
     "iopub.status.busy": "2022-03-09T22:37:04.850974Z",
     "iopub.status.idle": "2022-03-09T22:37:04.869943Z",
     "shell.execute_reply": "2022-03-09T22:37:04.869265Z",
     "shell.execute_reply.started": "2022-03-09T21:58:02.640414Z"
    },
    "papermill": {
     "duration": 0.081146,
     "end_time": "2022-03-09T22:37:04.870087",
     "exception": false,
     "start_time": "2022-03-09T22:37:04.788941",
     "status": "completed"
    },
    "tags": []
   },
   "outputs": [],
   "source": [
    "submission[\"congestion\"] = submission[\"congestion\"].apply(np.round)"
   ]
  },
  {
   "cell_type": "code",
   "execution_count": 44,
   "id": "f9bcde26",
   "metadata": {
    "execution": {
     "iopub.execute_input": "2022-03-09T22:37:04.995345Z",
     "iopub.status.busy": "2022-03-09T22:37:04.994676Z",
     "iopub.status.idle": "2022-03-09T22:37:04.997023Z",
     "shell.execute_reply": "2022-03-09T22:37:04.996423Z",
     "shell.execute_reply.started": "2022-03-09T21:58:47.650875Z"
    },
    "papermill": {
     "duration": 0.068087,
     "end_time": "2022-03-09T22:37:04.997169",
     "exception": false,
     "start_time": "2022-03-09T22:37:04.929082",
     "status": "completed"
    },
    "tags": []
   },
   "outputs": [],
   "source": [
    "submission[\"congestion\"] = submission[\"congestion\"].astype(\"int64\")"
   ]
  },
  {
   "cell_type": "code",
   "execution_count": 45,
   "id": "b209e737",
   "metadata": {
    "execution": {
     "iopub.execute_input": "2022-03-09T22:37:05.117447Z",
     "iopub.status.busy": "2022-03-09T22:37:05.116742Z",
     "iopub.status.idle": "2022-03-09T22:37:05.121466Z",
     "shell.execute_reply": "2022-03-09T22:37:05.121945Z",
     "shell.execute_reply.started": "2022-03-09T22:28:22.898581Z"
    },
    "papermill": {
     "duration": 0.068106,
     "end_time": "2022-03-09T22:37:05.122129",
     "exception": false,
     "start_time": "2022-03-09T22:37:05.054023",
     "status": "completed"
    },
    "tags": []
   },
   "outputs": [],
   "source": [
    "submission = submission.set_index(\"row_id\")"
   ]
  },
  {
   "cell_type": "code",
   "execution_count": 46,
   "id": "f6652081",
   "metadata": {
    "execution": {
     "iopub.execute_input": "2022-03-09T22:37:05.243397Z",
     "iopub.status.busy": "2022-03-09T22:37:05.242323Z",
     "iopub.status.idle": "2022-03-09T22:37:05.253061Z",
     "shell.execute_reply": "2022-03-09T22:37:05.253553Z",
     "shell.execute_reply.started": "2022-03-09T22:28:25.314814Z"
    },
    "papermill": {
     "duration": 0.073116,
     "end_time": "2022-03-09T22:37:05.253763",
     "exception": false,
     "start_time": "2022-03-09T22:37:05.180647",
     "status": "completed"
    },
    "tags": []
   },
   "outputs": [
    {
     "data": {
      "text/html": [
       "<div>\n",
       "<style scoped>\n",
       "    .dataframe tbody tr th:only-of-type {\n",
       "        vertical-align: middle;\n",
       "    }\n",
       "\n",
       "    .dataframe tbody tr th {\n",
       "        vertical-align: top;\n",
       "    }\n",
       "\n",
       "    .dataframe thead th {\n",
       "        text-align: right;\n",
       "    }\n",
       "</style>\n",
       "<table border=\"1\" class=\"dataframe\">\n",
       "  <thead>\n",
       "    <tr style=\"text-align: right;\">\n",
       "      <th></th>\n",
       "      <th>congestion</th>\n",
       "    </tr>\n",
       "    <tr>\n",
       "      <th>row_id</th>\n",
       "      <th></th>\n",
       "    </tr>\n",
       "  </thead>\n",
       "  <tbody>\n",
       "    <tr>\n",
       "      <th>848835</th>\n",
       "      <td>57</td>\n",
       "    </tr>\n",
       "    <tr>\n",
       "      <th>848836</th>\n",
       "      <td>33</td>\n",
       "    </tr>\n",
       "    <tr>\n",
       "      <th>848837</th>\n",
       "      <td>53</td>\n",
       "    </tr>\n",
       "    <tr>\n",
       "      <th>848838</th>\n",
       "      <td>30</td>\n",
       "    </tr>\n",
       "    <tr>\n",
       "      <th>848839</th>\n",
       "      <td>73</td>\n",
       "    </tr>\n",
       "    <tr>\n",
       "      <th>...</th>\n",
       "      <td>...</td>\n",
       "    </tr>\n",
       "    <tr>\n",
       "      <th>851170</th>\n",
       "      <td>63</td>\n",
       "    </tr>\n",
       "    <tr>\n",
       "      <th>851171</th>\n",
       "      <td>27</td>\n",
       "    </tr>\n",
       "    <tr>\n",
       "      <th>851172</th>\n",
       "      <td>65</td>\n",
       "    </tr>\n",
       "    <tr>\n",
       "      <th>851173</th>\n",
       "      <td>17</td>\n",
       "    </tr>\n",
       "    <tr>\n",
       "      <th>851174</th>\n",
       "      <td>37</td>\n",
       "    </tr>\n",
       "  </tbody>\n",
       "</table>\n",
       "<p>2340 rows × 1 columns</p>\n",
       "</div>"
      ],
      "text/plain": [
       "        congestion\n",
       "row_id            \n",
       "848835          57\n",
       "848836          33\n",
       "848837          53\n",
       "848838          30\n",
       "848839          73\n",
       "...            ...\n",
       "851170          63\n",
       "851171          27\n",
       "851172          65\n",
       "851173          17\n",
       "851174          37\n",
       "\n",
       "[2340 rows x 1 columns]"
      ]
     },
     "execution_count": 46,
     "metadata": {},
     "output_type": "execute_result"
    }
   ],
   "source": [
    "submission"
   ]
  },
  {
   "cell_type": "code",
   "execution_count": 47,
   "id": "f236a6b3",
   "metadata": {
    "execution": {
     "iopub.execute_input": "2022-03-09T22:37:05.377092Z",
     "iopub.status.busy": "2022-03-09T22:37:05.376131Z",
     "iopub.status.idle": "2022-03-09T22:37:05.384354Z",
     "shell.execute_reply": "2022-03-09T22:37:05.384872Z",
     "shell.execute_reply.started": "2022-03-09T22:28:33.764853Z"
    },
    "papermill": {
     "duration": 0.071476,
     "end_time": "2022-03-09T22:37:05.385053",
     "exception": false,
     "start_time": "2022-03-09T22:37:05.313577",
     "status": "completed"
    },
    "tags": []
   },
   "outputs": [],
   "source": [
    "submission.to_csv(\"./submission.csv\")"
   ]
  },
  {
   "cell_type": "code",
   "execution_count": null,
   "id": "2d3d0f2b",
   "metadata": {
    "papermill": {
     "duration": 0.057657,
     "end_time": "2022-03-09T22:37:05.500809",
     "exception": false,
     "start_time": "2022-03-09T22:37:05.443152",
     "status": "completed"
    },
    "tags": []
   },
   "outputs": [],
   "source": []
  }
 ],
 "metadata": {
  "kernelspec": {
   "display_name": "Python 3",
   "language": "python",
   "name": "python3"
  },
  "language_info": {
   "codemirror_mode": {
    "name": "ipython",
    "version": 3
   },
   "file_extension": ".py",
   "mimetype": "text/x-python",
   "name": "python",
   "nbconvert_exporter": "python",
   "pygments_lexer": "ipython3",
   "version": "3.7.12"
  },
  "papermill": {
   "default_parameters": {},
   "duration": 491.107043,
   "end_time": "2022-03-09T22:37:06.674150",
   "environment_variables": {},
   "exception": null,
   "input_path": "__notebook__.ipynb",
   "output_path": "__notebook__.ipynb",
   "parameters": {},
   "start_time": "2022-03-09T22:28:55.567107",
   "version": "2.3.3"
  }
 },
 "nbformat": 4,
 "nbformat_minor": 5
}
